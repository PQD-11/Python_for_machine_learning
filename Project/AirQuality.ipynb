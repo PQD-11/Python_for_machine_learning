{
  "cells": [
    {
      "cell_type": "markdown",
      "metadata": {
        "id": "YuHieTvIRBIY"
      },
      "source": [
        "<h1><center><b>Project: AirQuality</b></center><h1>"
      ]
    },
    {
      "cell_type": "markdown",
      "metadata": {
        "id": "Pe_Hax-gvt3N"
      },
      "source": [
        "# **Loading and understanding the dataset**"
      ]
    },
    {
      "cell_type": "code",
      "execution_count": 37,
      "metadata": {
        "id": "3HJBKzOYj9yw"
      },
      "outputs": [],
      "source": [
        "import numpy as np \n",
        "import matplotlib.pyplot as plt\n",
        "import pandas as pd\n",
        "import seaborn as sns\n",
        "from sklearn.model_selection import train_test_split, GridSearchCV, RandomizedSearchCV\n",
        "from sklearn.linear_model import LinearRegression\n",
        "from sklearn.svm import SVR\n",
        "from sklearn.metrics import mean_squared_error, mean_absolute_error\n",
        "from sklearn.preprocessing import StandardScaler"
      ]
    },
    {
      "cell_type": "code",
      "execution_count": 38,
      "metadata": {
        "colab": {
          "base_uri": "https://localhost:8080/",
          "height": 835
        },
        "id": "KhgcufXbkiFX",
        "outputId": "d42362a5-4a0f-49b8-b253-ba302791bb1a"
      },
      "outputs": [
        {
          "data": {
            "text/html": [
              "<div>\n",
              "<style scoped>\n",
              "    .dataframe tbody tr th:only-of-type {\n",
              "        vertical-align: middle;\n",
              "    }\n",
              "\n",
              "    .dataframe tbody tr th {\n",
              "        vertical-align: top;\n",
              "    }\n",
              "\n",
              "    .dataframe thead th {\n",
              "        text-align: right;\n",
              "    }\n",
              "</style>\n",
              "<table border=\"1\" class=\"dataframe\">\n",
              "  <thead>\n",
              "    <tr style=\"text-align: right;\">\n",
              "      <th></th>\n",
              "      <th>DateTime</th>\n",
              "      <th>CO_GT</th>\n",
              "      <th>PT08_S1_CO</th>\n",
              "      <th>NMHC_GT</th>\n",
              "      <th>C6H6_GT</th>\n",
              "      <th>PT08_S2_NMHC</th>\n",
              "      <th>Nox_GT</th>\n",
              "      <th>PT08_S3_Nox</th>\n",
              "      <th>NO2_GT</th>\n",
              "      <th>PT08_S4_NO2</th>\n",
              "      <th>PT08_S5_O3</th>\n",
              "      <th>T</th>\n",
              "      <th>RH</th>\n",
              "      <th>AH</th>\n",
              "      <th>CO_level</th>\n",
              "    </tr>\n",
              "  </thead>\n",
              "  <tbody>\n",
              "    <tr>\n",
              "      <th>0</th>\n",
              "      <td>2004-11-23 19:00:00</td>\n",
              "      <td>11.9</td>\n",
              "      <td>2008</td>\n",
              "      <td>-200</td>\n",
              "      <td>50.6</td>\n",
              "      <td>1980</td>\n",
              "      <td>1389</td>\n",
              "      <td>325</td>\n",
              "      <td>220</td>\n",
              "      <td>2562</td>\n",
              "      <td>2342</td>\n",
              "      <td>12.4</td>\n",
              "      <td>74.7</td>\n",
              "      <td>1.0741</td>\n",
              "      <td>Very High</td>\n",
              "    </tr>\n",
              "    <tr>\n",
              "      <th>1</th>\n",
              "      <td>2004-11-23 20:00:00</td>\n",
              "      <td>11.5</td>\n",
              "      <td>1918</td>\n",
              "      <td>-200</td>\n",
              "      <td>49.4</td>\n",
              "      <td>1958</td>\n",
              "      <td>1358</td>\n",
              "      <td>335</td>\n",
              "      <td>190</td>\n",
              "      <td>2477</td>\n",
              "      <td>2237</td>\n",
              "      <td>11.5</td>\n",
              "      <td>76.2</td>\n",
              "      <td>1.0324</td>\n",
              "      <td>Very High</td>\n",
              "    </tr>\n",
              "    <tr>\n",
              "      <th>2</th>\n",
              "      <td>2004-11-17 18:00:00</td>\n",
              "      <td>10.2</td>\n",
              "      <td>1802</td>\n",
              "      <td>-200</td>\n",
              "      <td>47.7</td>\n",
              "      <td>1924</td>\n",
              "      <td>748</td>\n",
              "      <td>356</td>\n",
              "      <td>192</td>\n",
              "      <td>2235</td>\n",
              "      <td>2452</td>\n",
              "      <td>13.7</td>\n",
              "      <td>52.8</td>\n",
              "      <td>0.8244</td>\n",
              "      <td>Very High</td>\n",
              "    </tr>\n",
              "    <tr>\n",
              "      <th>3</th>\n",
              "      <td>2004-11-23 18:00:00</td>\n",
              "      <td>10.2</td>\n",
              "      <td>1982</td>\n",
              "      <td>-200</td>\n",
              "      <td>49.5</td>\n",
              "      <td>1959</td>\n",
              "      <td>1369</td>\n",
              "      <td>322</td>\n",
              "      <td>227</td>\n",
              "      <td>2536</td>\n",
              "      <td>2386</td>\n",
              "      <td>13.2</td>\n",
              "      <td>72.6</td>\n",
              "      <td>1.0936</td>\n",
              "      <td>Very High</td>\n",
              "    </tr>\n",
              "    <tr>\n",
              "      <th>4</th>\n",
              "      <td>2004-11-26 18:00:00</td>\n",
              "      <td>10.1</td>\n",
              "      <td>1956</td>\n",
              "      <td>-200</td>\n",
              "      <td>45.2</td>\n",
              "      <td>1877</td>\n",
              "      <td>1389</td>\n",
              "      <td>347</td>\n",
              "      <td>255</td>\n",
              "      <td>2338</td>\n",
              "      <td>2465</td>\n",
              "      <td>15.5</td>\n",
              "      <td>62.8</td>\n",
              "      <td>1.0979</td>\n",
              "      <td>Very High</td>\n",
              "    </tr>\n",
              "    <tr>\n",
              "      <th>...</th>\n",
              "      <td>...</td>\n",
              "      <td>...</td>\n",
              "      <td>...</td>\n",
              "      <td>...</td>\n",
              "      <td>...</td>\n",
              "      <td>...</td>\n",
              "      <td>...</td>\n",
              "      <td>...</td>\n",
              "      <td>...</td>\n",
              "      <td>...</td>\n",
              "      <td>...</td>\n",
              "      <td>...</td>\n",
              "      <td>...</td>\n",
              "      <td>...</td>\n",
              "      <td>...</td>\n",
              "    </tr>\n",
              "    <tr>\n",
              "      <th>9352</th>\n",
              "      <td>2005-03-23 04:00:00</td>\n",
              "      <td>-200.0</td>\n",
              "      <td>993</td>\n",
              "      <td>-200</td>\n",
              "      <td>2.3</td>\n",
              "      <td>604</td>\n",
              "      <td>85</td>\n",
              "      <td>848</td>\n",
              "      <td>65</td>\n",
              "      <td>1160</td>\n",
              "      <td>762</td>\n",
              "      <td>14.5</td>\n",
              "      <td>66.4</td>\n",
              "      <td>1.0919</td>\n",
              "      <td>Very low</td>\n",
              "    </tr>\n",
              "    <tr>\n",
              "      <th>9353</th>\n",
              "      <td>2005-03-26 04:00:00</td>\n",
              "      <td>-200.0</td>\n",
              "      <td>1122</td>\n",
              "      <td>-200</td>\n",
              "      <td>6.0</td>\n",
              "      <td>811</td>\n",
              "      <td>181</td>\n",
              "      <td>641</td>\n",
              "      <td>92</td>\n",
              "      <td>1336</td>\n",
              "      <td>1122</td>\n",
              "      <td>16.2</td>\n",
              "      <td>71.2</td>\n",
              "      <td>1.3013</td>\n",
              "      <td>Very low</td>\n",
              "    </tr>\n",
              "    <tr>\n",
              "      <th>9354</th>\n",
              "      <td>2005-03-29 04:00:00</td>\n",
              "      <td>-200.0</td>\n",
              "      <td>883</td>\n",
              "      <td>-200</td>\n",
              "      <td>1.3</td>\n",
              "      <td>530</td>\n",
              "      <td>63</td>\n",
              "      <td>997</td>\n",
              "      <td>46</td>\n",
              "      <td>1102</td>\n",
              "      <td>617</td>\n",
              "      <td>13.7</td>\n",
              "      <td>68.2</td>\n",
              "      <td>1.0611</td>\n",
              "      <td>Very low</td>\n",
              "    </tr>\n",
              "    <tr>\n",
              "      <th>9355</th>\n",
              "      <td>2005-04-01 04:00:00</td>\n",
              "      <td>-200.0</td>\n",
              "      <td>818</td>\n",
              "      <td>-200</td>\n",
              "      <td>0.8</td>\n",
              "      <td>473</td>\n",
              "      <td>47</td>\n",
              "      <td>1257</td>\n",
              "      <td>41</td>\n",
              "      <td>898</td>\n",
              "      <td>323</td>\n",
              "      <td>13.7</td>\n",
              "      <td>48.8</td>\n",
              "      <td>0.7606</td>\n",
              "      <td>Very low</td>\n",
              "    </tr>\n",
              "    <tr>\n",
              "      <th>9356</th>\n",
              "      <td>2005-04-04 04:00:00</td>\n",
              "      <td>-200.0</td>\n",
              "      <td>864</td>\n",
              "      <td>-200</td>\n",
              "      <td>0.8</td>\n",
              "      <td>478</td>\n",
              "      <td>52</td>\n",
              "      <td>1116</td>\n",
              "      <td>43</td>\n",
              "      <td>958</td>\n",
              "      <td>489</td>\n",
              "      <td>11.8</td>\n",
              "      <td>56.0</td>\n",
              "      <td>0.7743</td>\n",
              "      <td>Very low</td>\n",
              "    </tr>\n",
              "  </tbody>\n",
              "</table>\n",
              "<p>9357 rows × 15 columns</p>\n",
              "</div>"
            ],
            "text/plain": [
              "                DateTime  CO_GT  PT08_S1_CO  NMHC_GT  C6H6_GT  PT08_S2_NMHC  \\\n",
              "0    2004-11-23 19:00:00   11.9        2008     -200     50.6          1980   \n",
              "1    2004-11-23 20:00:00   11.5        1918     -200     49.4          1958   \n",
              "2    2004-11-17 18:00:00   10.2        1802     -200     47.7          1924   \n",
              "3    2004-11-23 18:00:00   10.2        1982     -200     49.5          1959   \n",
              "4    2004-11-26 18:00:00   10.1        1956     -200     45.2          1877   \n",
              "...                  ...    ...         ...      ...      ...           ...   \n",
              "9352 2005-03-23 04:00:00 -200.0         993     -200      2.3           604   \n",
              "9353 2005-03-26 04:00:00 -200.0        1122     -200      6.0           811   \n",
              "9354 2005-03-29 04:00:00 -200.0         883     -200      1.3           530   \n",
              "9355 2005-04-01 04:00:00 -200.0         818     -200      0.8           473   \n",
              "9356 2005-04-04 04:00:00 -200.0         864     -200      0.8           478   \n",
              "\n",
              "      Nox_GT  PT08_S3_Nox  NO2_GT  PT08_S4_NO2  PT08_S5_O3     T    RH  \\\n",
              "0       1389          325     220         2562        2342  12.4  74.7   \n",
              "1       1358          335     190         2477        2237  11.5  76.2   \n",
              "2        748          356     192         2235        2452  13.7  52.8   \n",
              "3       1369          322     227         2536        2386  13.2  72.6   \n",
              "4       1389          347     255         2338        2465  15.5  62.8   \n",
              "...      ...          ...     ...          ...         ...   ...   ...   \n",
              "9352      85          848      65         1160         762  14.5  66.4   \n",
              "9353     181          641      92         1336        1122  16.2  71.2   \n",
              "9354      63          997      46         1102         617  13.7  68.2   \n",
              "9355      47         1257      41          898         323  13.7  48.8   \n",
              "9356      52         1116      43          958         489  11.8  56.0   \n",
              "\n",
              "          AH   CO_level  \n",
              "0     1.0741  Very High  \n",
              "1     1.0324  Very High  \n",
              "2     0.8244  Very High  \n",
              "3     1.0936  Very High  \n",
              "4     1.0979  Very High  \n",
              "...      ...        ...  \n",
              "9352  1.0919   Very low  \n",
              "9353  1.3013   Very low  \n",
              "9354  1.0611   Very low  \n",
              "9355  0.7606   Very low  \n",
              "9356  0.7743   Very low  \n",
              "\n",
              "[9357 rows x 15 columns]"
            ]
          },
          "execution_count": 38,
          "metadata": {},
          "output_type": "execute_result"
        }
      ],
      "source": [
        "df = pd.read_csv('AirQualityUCI.csv', parse_dates={'DateTime': ['Date', 'Time']})\n",
        "df"
      ]
    },
    {
      "cell_type": "code",
      "execution_count": 39,
      "metadata": {
        "colab": {
          "base_uri": "https://localhost:8080/",
          "height": 364
        },
        "id": "TXG4i8gCwSGQ",
        "outputId": "6d6f8522-cccc-4c50-dc50-e5dbaf76a60a"
      },
      "outputs": [
        {
          "data": {
            "text/html": [
              "<div>\n",
              "<style scoped>\n",
              "    .dataframe tbody tr th:only-of-type {\n",
              "        vertical-align: middle;\n",
              "    }\n",
              "\n",
              "    .dataframe tbody tr th {\n",
              "        vertical-align: top;\n",
              "    }\n",
              "\n",
              "    .dataframe thead th {\n",
              "        text-align: right;\n",
              "    }\n",
              "</style>\n",
              "<table border=\"1\" class=\"dataframe\">\n",
              "  <thead>\n",
              "    <tr style=\"text-align: right;\">\n",
              "      <th></th>\n",
              "      <th>CO_GT</th>\n",
              "      <th>PT08_S1_CO</th>\n",
              "      <th>NMHC_GT</th>\n",
              "      <th>C6H6_GT</th>\n",
              "      <th>PT08_S2_NMHC</th>\n",
              "      <th>Nox_GT</th>\n",
              "      <th>PT08_S3_Nox</th>\n",
              "      <th>NO2_GT</th>\n",
              "      <th>PT08_S4_NO2</th>\n",
              "      <th>PT08_S5_O3</th>\n",
              "      <th>T</th>\n",
              "      <th>RH</th>\n",
              "      <th>AH</th>\n",
              "    </tr>\n",
              "  </thead>\n",
              "  <tbody>\n",
              "    <tr>\n",
              "      <th>count</th>\n",
              "      <td>9357.000000</td>\n",
              "      <td>9357.000000</td>\n",
              "      <td>9357.000000</td>\n",
              "      <td>9357.000000</td>\n",
              "      <td>9357.000000</td>\n",
              "      <td>9357.000000</td>\n",
              "      <td>9357.000000</td>\n",
              "      <td>9357.000000</td>\n",
              "      <td>9357.000000</td>\n",
              "      <td>9357.000000</td>\n",
              "      <td>9357.000000</td>\n",
              "      <td>9357.000000</td>\n",
              "      <td>9357.000000</td>\n",
              "    </tr>\n",
              "    <tr>\n",
              "      <th>mean</th>\n",
              "      <td>-34.207524</td>\n",
              "      <td>1048.990061</td>\n",
              "      <td>-159.090093</td>\n",
              "      <td>1.865683</td>\n",
              "      <td>894.595276</td>\n",
              "      <td>168.616971</td>\n",
              "      <td>794.990168</td>\n",
              "      <td>58.148873</td>\n",
              "      <td>1391.479641</td>\n",
              "      <td>975.072032</td>\n",
              "      <td>9.778305</td>\n",
              "      <td>39.485380</td>\n",
              "      <td>-6.837604</td>\n",
              "    </tr>\n",
              "    <tr>\n",
              "      <th>std</th>\n",
              "      <td>77.657170</td>\n",
              "      <td>329.832710</td>\n",
              "      <td>139.789093</td>\n",
              "      <td>41.380206</td>\n",
              "      <td>342.333252</td>\n",
              "      <td>257.433866</td>\n",
              "      <td>321.993552</td>\n",
              "      <td>126.940455</td>\n",
              "      <td>467.210125</td>\n",
              "      <td>456.938184</td>\n",
              "      <td>43.203623</td>\n",
              "      <td>51.216145</td>\n",
              "      <td>38.976670</td>\n",
              "    </tr>\n",
              "    <tr>\n",
              "      <th>min</th>\n",
              "      <td>-200.000000</td>\n",
              "      <td>-200.000000</td>\n",
              "      <td>-200.000000</td>\n",
              "      <td>-200.000000</td>\n",
              "      <td>-200.000000</td>\n",
              "      <td>-200.000000</td>\n",
              "      <td>-200.000000</td>\n",
              "      <td>-200.000000</td>\n",
              "      <td>-200.000000</td>\n",
              "      <td>-200.000000</td>\n",
              "      <td>-200.000000</td>\n",
              "      <td>-200.000000</td>\n",
              "      <td>-200.000000</td>\n",
              "    </tr>\n",
              "    <tr>\n",
              "      <th>25%</th>\n",
              "      <td>0.600000</td>\n",
              "      <td>921.000000</td>\n",
              "      <td>-200.000000</td>\n",
              "      <td>4.000000</td>\n",
              "      <td>711.000000</td>\n",
              "      <td>50.000000</td>\n",
              "      <td>637.000000</td>\n",
              "      <td>53.000000</td>\n",
              "      <td>1185.000000</td>\n",
              "      <td>700.000000</td>\n",
              "      <td>10.900000</td>\n",
              "      <td>34.100000</td>\n",
              "      <td>0.692300</td>\n",
              "    </tr>\n",
              "    <tr>\n",
              "      <th>50%</th>\n",
              "      <td>1.500000</td>\n",
              "      <td>1053.000000</td>\n",
              "      <td>-200.000000</td>\n",
              "      <td>7.900000</td>\n",
              "      <td>895.000000</td>\n",
              "      <td>141.000000</td>\n",
              "      <td>794.000000</td>\n",
              "      <td>96.000000</td>\n",
              "      <td>1446.000000</td>\n",
              "      <td>942.000000</td>\n",
              "      <td>17.200000</td>\n",
              "      <td>48.600000</td>\n",
              "      <td>0.976800</td>\n",
              "    </tr>\n",
              "    <tr>\n",
              "      <th>75%</th>\n",
              "      <td>2.600000</td>\n",
              "      <td>1221.000000</td>\n",
              "      <td>-200.000000</td>\n",
              "      <td>13.600000</td>\n",
              "      <td>1105.000000</td>\n",
              "      <td>284.000000</td>\n",
              "      <td>960.000000</td>\n",
              "      <td>133.000000</td>\n",
              "      <td>1662.000000</td>\n",
              "      <td>1255.000000</td>\n",
              "      <td>24.100000</td>\n",
              "      <td>61.900000</td>\n",
              "      <td>1.296200</td>\n",
              "    </tr>\n",
              "    <tr>\n",
              "      <th>max</th>\n",
              "      <td>11.900000</td>\n",
              "      <td>2040.000000</td>\n",
              "      <td>1189.000000</td>\n",
              "      <td>63.700000</td>\n",
              "      <td>2214.000000</td>\n",
              "      <td>1479.000000</td>\n",
              "      <td>2683.000000</td>\n",
              "      <td>340.000000</td>\n",
              "      <td>2775.000000</td>\n",
              "      <td>2523.000000</td>\n",
              "      <td>44.600000</td>\n",
              "      <td>88.700000</td>\n",
              "      <td>2.231000</td>\n",
              "    </tr>\n",
              "  </tbody>\n",
              "</table>\n",
              "</div>"
            ],
            "text/plain": [
              "             CO_GT   PT08_S1_CO      NMHC_GT      C6H6_GT  PT08_S2_NMHC  \\\n",
              "count  9357.000000  9357.000000  9357.000000  9357.000000   9357.000000   \n",
              "mean    -34.207524  1048.990061  -159.090093     1.865683    894.595276   \n",
              "std      77.657170   329.832710   139.789093    41.380206    342.333252   \n",
              "min    -200.000000  -200.000000  -200.000000  -200.000000   -200.000000   \n",
              "25%       0.600000   921.000000  -200.000000     4.000000    711.000000   \n",
              "50%       1.500000  1053.000000  -200.000000     7.900000    895.000000   \n",
              "75%       2.600000  1221.000000  -200.000000    13.600000   1105.000000   \n",
              "max      11.900000  2040.000000  1189.000000    63.700000   2214.000000   \n",
              "\n",
              "            Nox_GT  PT08_S3_Nox       NO2_GT  PT08_S4_NO2   PT08_S5_O3  \\\n",
              "count  9357.000000  9357.000000  9357.000000  9357.000000  9357.000000   \n",
              "mean    168.616971   794.990168    58.148873  1391.479641   975.072032   \n",
              "std     257.433866   321.993552   126.940455   467.210125   456.938184   \n",
              "min    -200.000000  -200.000000  -200.000000  -200.000000  -200.000000   \n",
              "25%      50.000000   637.000000    53.000000  1185.000000   700.000000   \n",
              "50%     141.000000   794.000000    96.000000  1446.000000   942.000000   \n",
              "75%     284.000000   960.000000   133.000000  1662.000000  1255.000000   \n",
              "max    1479.000000  2683.000000   340.000000  2775.000000  2523.000000   \n",
              "\n",
              "                 T           RH           AH  \n",
              "count  9357.000000  9357.000000  9357.000000  \n",
              "mean      9.778305    39.485380    -6.837604  \n",
              "std      43.203623    51.216145    38.976670  \n",
              "min    -200.000000  -200.000000  -200.000000  \n",
              "25%      10.900000    34.100000     0.692300  \n",
              "50%      17.200000    48.600000     0.976800  \n",
              "75%      24.100000    61.900000     1.296200  \n",
              "max      44.600000    88.700000     2.231000  "
            ]
          },
          "execution_count": 39,
          "metadata": {},
          "output_type": "execute_result"
        }
      ],
      "source": [
        "df.describe()"
      ]
    },
    {
      "cell_type": "code",
      "execution_count": 40,
      "metadata": {
        "colab": {
          "base_uri": "https://localhost:8080/"
        },
        "id": "zICep4dzxd0c",
        "outputId": "5dddebf7-64d6-4674-f3c2-707d667841aa"
      },
      "outputs": [
        {
          "name": "stdout",
          "output_type": "stream",
          "text": [
            "<class 'pandas.core.frame.DataFrame'>\n",
            "RangeIndex: 9357 entries, 0 to 9356\n",
            "Data columns (total 15 columns):\n",
            " #   Column        Non-Null Count  Dtype         \n",
            "---  ------        --------------  -----         \n",
            " 0   DateTime      9357 non-null   datetime64[ns]\n",
            " 1   CO_GT         9357 non-null   float64       \n",
            " 2   PT08_S1_CO    9357 non-null   int64         \n",
            " 3   NMHC_GT       9357 non-null   int64         \n",
            " 4   C6H6_GT       9357 non-null   float64       \n",
            " 5   PT08_S2_NMHC  9357 non-null   int64         \n",
            " 6   Nox_GT        9357 non-null   int64         \n",
            " 7   PT08_S3_Nox   9357 non-null   int64         \n",
            " 8   NO2_GT        9357 non-null   int64         \n",
            " 9   PT08_S4_NO2   9357 non-null   int64         \n",
            " 10  PT08_S5_O3    9357 non-null   int64         \n",
            " 11  T             9357 non-null   float64       \n",
            " 12  RH            9357 non-null   float64       \n",
            " 13  AH            9357 non-null   float64       \n",
            " 14  CO_level      9357 non-null   object        \n",
            "dtypes: datetime64[ns](1), float64(5), int64(8), object(1)\n",
            "memory usage: 1.1+ MB\n"
          ]
        }
      ],
      "source": [
        "df.info()"
      ]
    },
    {
      "cell_type": "code",
      "execution_count": 41,
      "metadata": {
        "colab": {
          "base_uri": "https://localhost:8080/"
        },
        "id": "higYOY-Zxr2q",
        "outputId": "f4600685-9c31-4062-c537-318be01f5dbf"
      },
      "outputs": [
        {
          "data": {
            "text/plain": [
              "(9357, 15)"
            ]
          },
          "execution_count": 41,
          "metadata": {},
          "output_type": "execute_result"
        }
      ],
      "source": [
        "df.shape"
      ]
    },
    {
      "cell_type": "markdown",
      "metadata": {
        "id": "DVgzg96ry7Ac"
      },
      "source": [
        "# **Cleaning the dataset**"
      ]
    },
    {
      "cell_type": "code",
      "execution_count": 42,
      "metadata": {
        "colab": {
          "base_uri": "https://localhost:8080/"
        },
        "id": "_neu7PKBy-_I",
        "outputId": "9630638d-62ae-4f03-984a-5222b2d3e2c3"
      },
      "outputs": [
        {
          "data": {
            "text/plain": [
              "-200    8443\n",
              " 66       14\n",
              " 29        9\n",
              " 40        9\n",
              " 93        8\n",
              "        ... \n",
              " 206       1\n",
              " 268       1\n",
              " 320       1\n",
              " 270       1\n",
              " 10        1\n",
              "Name: NMHC_GT, Length: 430, dtype: int64"
            ]
          },
          "execution_count": 42,
          "metadata": {},
          "output_type": "execute_result"
        }
      ],
      "source": [
        "df['NMHC_GT'].value_counts()"
      ]
    },
    {
      "cell_type": "code",
      "execution_count": 43,
      "metadata": {
        "id": "6a7Hd2EczfJT"
      },
      "outputs": [],
      "source": [
        "# 8443/9357 trong cột NMHC_GT là: -200. Cột không cần thiết -> drop\n",
        "df.drop('NMHC_GT', axis=1, inplace=True)\n",
        "df.drop('CO_level', axis=1, inplace=True)"
      ]
    },
    {
      "cell_type": "code",
      "execution_count": 44,
      "metadata": {
        "colab": {
          "base_uri": "https://localhost:8080/"
        },
        "id": "yzUtut2y2VPI",
        "outputId": "5054152d-c5fc-447d-9762-913bc132cabf"
      },
      "outputs": [
        {
          "data": {
            "text/plain": [
              "Index(['DateTime', 'CO_GT', 'PT08_S1_CO', 'C6H6_GT', 'PT08_S2_NMHC', 'Nox_GT',\n",
              "       'PT08_S3_Nox', 'NO2_GT', 'PT08_S4_NO2', 'PT08_S5_O3', 'T', 'RH', 'AH'],\n",
              "      dtype='object')"
            ]
          },
          "execution_count": 44,
          "metadata": {},
          "output_type": "execute_result"
        }
      ],
      "source": [
        "df.columns"
      ]
    },
    {
      "cell_type": "code",
      "execution_count": 45,
      "metadata": {
        "id": "BfyGmuSR0b85"
      },
      "outputs": [],
      "source": [
        "# Trong tập dữ liệu có rất nhiều giá trị bị thiếu được tác giả gán bằng -200. Thay thế -200 với np.NaN\n",
        "df.replace(to_replace=-200, value=np.NaN, inplace=True)"
      ]
    },
    {
      "cell_type": "code",
      "execution_count": 46,
      "metadata": {
        "colab": {
          "base_uri": "https://localhost:8080/"
        },
        "id": "ZJZpqemR23cS",
        "outputId": "dccfa5e8-7c30-449e-cd63-7ea67f668faa"
      },
      "outputs": [
        {
          "data": {
            "text/plain": [
              "DateTime        0\n",
              "CO_GT           0\n",
              "PT08_S1_CO      0\n",
              "C6H6_GT         0\n",
              "PT08_S2_NMHC    0\n",
              "Nox_GT          0\n",
              "PT08_S3_Nox     0\n",
              "NO2_GT          0\n",
              "PT08_S4_NO2     0\n",
              "PT08_S5_O3      0\n",
              "T               0\n",
              "RH              0\n",
              "AH              0\n",
              "dtype: int64"
            ]
          },
          "execution_count": 46,
          "metadata": {},
          "output_type": "execute_result"
        }
      ],
      "source": [
        "df.isin([-200]).sum()"
      ]
    },
    {
      "cell_type": "code",
      "execution_count": 47,
      "metadata": {
        "colab": {
          "base_uri": "https://localhost:8080/",
          "height": 835
        },
        "id": "bvyEmga7At2B",
        "outputId": "520af8a4-a1cf-4337-dd96-8d7fb57163a7"
      },
      "outputs": [
        {
          "data": {
            "text/html": [
              "<div>\n",
              "<style scoped>\n",
              "    .dataframe tbody tr th:only-of-type {\n",
              "        vertical-align: middle;\n",
              "    }\n",
              "\n",
              "    .dataframe tbody tr th {\n",
              "        vertical-align: top;\n",
              "    }\n",
              "\n",
              "    .dataframe thead th {\n",
              "        text-align: right;\n",
              "    }\n",
              "</style>\n",
              "<table border=\"1\" class=\"dataframe\">\n",
              "  <thead>\n",
              "    <tr style=\"text-align: right;\">\n",
              "      <th></th>\n",
              "      <th>DateTime</th>\n",
              "      <th>CO_GT</th>\n",
              "      <th>PT08_S1_CO</th>\n",
              "      <th>C6H6_GT</th>\n",
              "      <th>PT08_S2_NMHC</th>\n",
              "      <th>Nox_GT</th>\n",
              "      <th>PT08_S3_Nox</th>\n",
              "      <th>NO2_GT</th>\n",
              "      <th>PT08_S4_NO2</th>\n",
              "      <th>PT08_S5_O3</th>\n",
              "      <th>T</th>\n",
              "      <th>RH</th>\n",
              "      <th>AH</th>\n",
              "    </tr>\n",
              "  </thead>\n",
              "  <tbody>\n",
              "    <tr>\n",
              "      <th>0</th>\n",
              "      <td>2004-11-23 19:00:00</td>\n",
              "      <td>11.9</td>\n",
              "      <td>2008.0</td>\n",
              "      <td>50.6</td>\n",
              "      <td>1980.0</td>\n",
              "      <td>1389.0</td>\n",
              "      <td>325.0</td>\n",
              "      <td>220.0</td>\n",
              "      <td>2562.0</td>\n",
              "      <td>2342.0</td>\n",
              "      <td>12.4</td>\n",
              "      <td>74.7</td>\n",
              "      <td>1.0741</td>\n",
              "    </tr>\n",
              "    <tr>\n",
              "      <th>1</th>\n",
              "      <td>2004-11-23 20:00:00</td>\n",
              "      <td>11.5</td>\n",
              "      <td>1918.0</td>\n",
              "      <td>49.4</td>\n",
              "      <td>1958.0</td>\n",
              "      <td>1358.0</td>\n",
              "      <td>335.0</td>\n",
              "      <td>190.0</td>\n",
              "      <td>2477.0</td>\n",
              "      <td>2237.0</td>\n",
              "      <td>11.5</td>\n",
              "      <td>76.2</td>\n",
              "      <td>1.0324</td>\n",
              "    </tr>\n",
              "    <tr>\n",
              "      <th>2</th>\n",
              "      <td>2004-11-17 18:00:00</td>\n",
              "      <td>10.2</td>\n",
              "      <td>1802.0</td>\n",
              "      <td>47.7</td>\n",
              "      <td>1924.0</td>\n",
              "      <td>748.0</td>\n",
              "      <td>356.0</td>\n",
              "      <td>192.0</td>\n",
              "      <td>2235.0</td>\n",
              "      <td>2452.0</td>\n",
              "      <td>13.7</td>\n",
              "      <td>52.8</td>\n",
              "      <td>0.8244</td>\n",
              "    </tr>\n",
              "    <tr>\n",
              "      <th>3</th>\n",
              "      <td>2004-11-23 18:00:00</td>\n",
              "      <td>10.2</td>\n",
              "      <td>1982.0</td>\n",
              "      <td>49.5</td>\n",
              "      <td>1959.0</td>\n",
              "      <td>1369.0</td>\n",
              "      <td>322.0</td>\n",
              "      <td>227.0</td>\n",
              "      <td>2536.0</td>\n",
              "      <td>2386.0</td>\n",
              "      <td>13.2</td>\n",
              "      <td>72.6</td>\n",
              "      <td>1.0936</td>\n",
              "    </tr>\n",
              "    <tr>\n",
              "      <th>4</th>\n",
              "      <td>2004-11-26 18:00:00</td>\n",
              "      <td>10.1</td>\n",
              "      <td>1956.0</td>\n",
              "      <td>45.2</td>\n",
              "      <td>1877.0</td>\n",
              "      <td>1389.0</td>\n",
              "      <td>347.0</td>\n",
              "      <td>255.0</td>\n",
              "      <td>2338.0</td>\n",
              "      <td>2465.0</td>\n",
              "      <td>15.5</td>\n",
              "      <td>62.8</td>\n",
              "      <td>1.0979</td>\n",
              "    </tr>\n",
              "    <tr>\n",
              "      <th>...</th>\n",
              "      <td>...</td>\n",
              "      <td>...</td>\n",
              "      <td>...</td>\n",
              "      <td>...</td>\n",
              "      <td>...</td>\n",
              "      <td>...</td>\n",
              "      <td>...</td>\n",
              "      <td>...</td>\n",
              "      <td>...</td>\n",
              "      <td>...</td>\n",
              "      <td>...</td>\n",
              "      <td>...</td>\n",
              "      <td>...</td>\n",
              "    </tr>\n",
              "    <tr>\n",
              "      <th>9352</th>\n",
              "      <td>2005-03-23 04:00:00</td>\n",
              "      <td>NaN</td>\n",
              "      <td>993.0</td>\n",
              "      <td>2.3</td>\n",
              "      <td>604.0</td>\n",
              "      <td>85.0</td>\n",
              "      <td>848.0</td>\n",
              "      <td>65.0</td>\n",
              "      <td>1160.0</td>\n",
              "      <td>762.0</td>\n",
              "      <td>14.5</td>\n",
              "      <td>66.4</td>\n",
              "      <td>1.0919</td>\n",
              "    </tr>\n",
              "    <tr>\n",
              "      <th>9353</th>\n",
              "      <td>2005-03-26 04:00:00</td>\n",
              "      <td>NaN</td>\n",
              "      <td>1122.0</td>\n",
              "      <td>6.0</td>\n",
              "      <td>811.0</td>\n",
              "      <td>181.0</td>\n",
              "      <td>641.0</td>\n",
              "      <td>92.0</td>\n",
              "      <td>1336.0</td>\n",
              "      <td>1122.0</td>\n",
              "      <td>16.2</td>\n",
              "      <td>71.2</td>\n",
              "      <td>1.3013</td>\n",
              "    </tr>\n",
              "    <tr>\n",
              "      <th>9354</th>\n",
              "      <td>2005-03-29 04:00:00</td>\n",
              "      <td>NaN</td>\n",
              "      <td>883.0</td>\n",
              "      <td>1.3</td>\n",
              "      <td>530.0</td>\n",
              "      <td>63.0</td>\n",
              "      <td>997.0</td>\n",
              "      <td>46.0</td>\n",
              "      <td>1102.0</td>\n",
              "      <td>617.0</td>\n",
              "      <td>13.7</td>\n",
              "      <td>68.2</td>\n",
              "      <td>1.0611</td>\n",
              "    </tr>\n",
              "    <tr>\n",
              "      <th>9355</th>\n",
              "      <td>2005-04-01 04:00:00</td>\n",
              "      <td>NaN</td>\n",
              "      <td>818.0</td>\n",
              "      <td>0.8</td>\n",
              "      <td>473.0</td>\n",
              "      <td>47.0</td>\n",
              "      <td>1257.0</td>\n",
              "      <td>41.0</td>\n",
              "      <td>898.0</td>\n",
              "      <td>323.0</td>\n",
              "      <td>13.7</td>\n",
              "      <td>48.8</td>\n",
              "      <td>0.7606</td>\n",
              "    </tr>\n",
              "    <tr>\n",
              "      <th>9356</th>\n",
              "      <td>2005-04-04 04:00:00</td>\n",
              "      <td>NaN</td>\n",
              "      <td>864.0</td>\n",
              "      <td>0.8</td>\n",
              "      <td>478.0</td>\n",
              "      <td>52.0</td>\n",
              "      <td>1116.0</td>\n",
              "      <td>43.0</td>\n",
              "      <td>958.0</td>\n",
              "      <td>489.0</td>\n",
              "      <td>11.8</td>\n",
              "      <td>56.0</td>\n",
              "      <td>0.7743</td>\n",
              "    </tr>\n",
              "  </tbody>\n",
              "</table>\n",
              "<p>9357 rows × 13 columns</p>\n",
              "</div>"
            ],
            "text/plain": [
              "                DateTime  CO_GT  PT08_S1_CO  C6H6_GT  PT08_S2_NMHC  Nox_GT  \\\n",
              "0    2004-11-23 19:00:00   11.9      2008.0     50.6        1980.0  1389.0   \n",
              "1    2004-11-23 20:00:00   11.5      1918.0     49.4        1958.0  1358.0   \n",
              "2    2004-11-17 18:00:00   10.2      1802.0     47.7        1924.0   748.0   \n",
              "3    2004-11-23 18:00:00   10.2      1982.0     49.5        1959.0  1369.0   \n",
              "4    2004-11-26 18:00:00   10.1      1956.0     45.2        1877.0  1389.0   \n",
              "...                  ...    ...         ...      ...           ...     ...   \n",
              "9352 2005-03-23 04:00:00    NaN       993.0      2.3         604.0    85.0   \n",
              "9353 2005-03-26 04:00:00    NaN      1122.0      6.0         811.0   181.0   \n",
              "9354 2005-03-29 04:00:00    NaN       883.0      1.3         530.0    63.0   \n",
              "9355 2005-04-01 04:00:00    NaN       818.0      0.8         473.0    47.0   \n",
              "9356 2005-04-04 04:00:00    NaN       864.0      0.8         478.0    52.0   \n",
              "\n",
              "      PT08_S3_Nox  NO2_GT  PT08_S4_NO2  PT08_S5_O3     T    RH      AH  \n",
              "0           325.0   220.0       2562.0      2342.0  12.4  74.7  1.0741  \n",
              "1           335.0   190.0       2477.0      2237.0  11.5  76.2  1.0324  \n",
              "2           356.0   192.0       2235.0      2452.0  13.7  52.8  0.8244  \n",
              "3           322.0   227.0       2536.0      2386.0  13.2  72.6  1.0936  \n",
              "4           347.0   255.0       2338.0      2465.0  15.5  62.8  1.0979  \n",
              "...           ...     ...          ...         ...   ...   ...     ...  \n",
              "9352        848.0    65.0       1160.0       762.0  14.5  66.4  1.0919  \n",
              "9353        641.0    92.0       1336.0      1122.0  16.2  71.2  1.3013  \n",
              "9354        997.0    46.0       1102.0       617.0  13.7  68.2  1.0611  \n",
              "9355       1257.0    41.0        898.0       323.0  13.7  48.8  0.7606  \n",
              "9356       1116.0    43.0        958.0       489.0  11.8  56.0  0.7743  \n",
              "\n",
              "[9357 rows x 13 columns]"
            ]
          },
          "execution_count": 47,
          "metadata": {},
          "output_type": "execute_result"
        }
      ],
      "source": [
        "df"
      ]
    },
    {
      "cell_type": "code",
      "execution_count": 48,
      "metadata": {
        "id": "XMAg5TDF9wTH"
      },
      "outputs": [],
      "source": [
        "# Sử dụng fillna để thay thế các giá trị bị missing với giá trị trung bình\n",
        "col_list = df.columns[1:13]\n",
        "for i in col_list:\n",
        "  df[i] = df[i].fillna(df[i].mean())"
      ]
    },
    {
      "cell_type": "code",
      "execution_count": 49,
      "metadata": {
        "colab": {
          "base_uri": "https://localhost:8080/"
        },
        "id": "SZCC4mtI_pDV",
        "outputId": "19ac1d61-9e43-4991-a07e-8a9dc716c28b"
      },
      "outputs": [
        {
          "data": {
            "text/plain": [
              "DateTime        0\n",
              "CO_GT           0\n",
              "PT08_S1_CO      0\n",
              "C6H6_GT         0\n",
              "PT08_S2_NMHC    0\n",
              "Nox_GT          0\n",
              "PT08_S3_Nox     0\n",
              "NO2_GT          0\n",
              "PT08_S4_NO2     0\n",
              "PT08_S5_O3      0\n",
              "T               0\n",
              "RH              0\n",
              "AH              0\n",
              "dtype: int64"
            ]
          },
          "execution_count": 49,
          "metadata": {},
          "output_type": "execute_result"
        }
      ],
      "source": [
        "# Kiểm tra lại còn giá trị bị Null không\n",
        "df.isnull().sum()"
      ]
    },
    {
      "cell_type": "code",
      "execution_count": 50,
      "metadata": {
        "colab": {
          "base_uri": "https://localhost:8080/",
          "height": 364
        },
        "id": "xVPVkoDmBzAt",
        "outputId": "164c2844-3483-458f-91d5-8916854a80b9"
      },
      "outputs": [
        {
          "data": {
            "text/html": [
              "<div>\n",
              "<style scoped>\n",
              "    .dataframe tbody tr th:only-of-type {\n",
              "        vertical-align: middle;\n",
              "    }\n",
              "\n",
              "    .dataframe tbody tr th {\n",
              "        vertical-align: top;\n",
              "    }\n",
              "\n",
              "    .dataframe thead th {\n",
              "        text-align: right;\n",
              "    }\n",
              "</style>\n",
              "<table border=\"1\" class=\"dataframe\">\n",
              "  <thead>\n",
              "    <tr style=\"text-align: right;\">\n",
              "      <th></th>\n",
              "      <th>CO_GT</th>\n",
              "      <th>PT08_S1_CO</th>\n",
              "      <th>C6H6_GT</th>\n",
              "      <th>PT08_S2_NMHC</th>\n",
              "      <th>Nox_GT</th>\n",
              "      <th>PT08_S3_Nox</th>\n",
              "      <th>NO2_GT</th>\n",
              "      <th>PT08_S4_NO2</th>\n",
              "      <th>PT08_S5_O3</th>\n",
              "      <th>T</th>\n",
              "      <th>RH</th>\n",
              "      <th>AH</th>\n",
              "    </tr>\n",
              "  </thead>\n",
              "  <tbody>\n",
              "    <tr>\n",
              "      <th>count</th>\n",
              "      <td>9357.000000</td>\n",
              "      <td>9357.000000</td>\n",
              "      <td>9357.000000</td>\n",
              "      <td>9357.000000</td>\n",
              "      <td>9357.000000</td>\n",
              "      <td>9357.000000</td>\n",
              "      <td>9357.000000</td>\n",
              "      <td>9357.000000</td>\n",
              "      <td>9357.000000</td>\n",
              "      <td>9357.000000</td>\n",
              "      <td>9357.000000</td>\n",
              "      <td>9357.000000</td>\n",
              "    </tr>\n",
              "    <tr>\n",
              "      <th>mean</th>\n",
              "      <td>2.152750</td>\n",
              "      <td>1099.833166</td>\n",
              "      <td>10.083105</td>\n",
              "      <td>939.153376</td>\n",
              "      <td>246.896735</td>\n",
              "      <td>835.493605</td>\n",
              "      <td>113.091251</td>\n",
              "      <td>1456.264598</td>\n",
              "      <td>1022.906128</td>\n",
              "      <td>18.317829</td>\n",
              "      <td>49.234201</td>\n",
              "      <td>1.025530</td>\n",
              "    </tr>\n",
              "    <tr>\n",
              "      <th>std</th>\n",
              "      <td>1.316068</td>\n",
              "      <td>212.791672</td>\n",
              "      <td>7.302650</td>\n",
              "      <td>261.560236</td>\n",
              "      <td>193.426632</td>\n",
              "      <td>251.743954</td>\n",
              "      <td>43.920954</td>\n",
              "      <td>339.367559</td>\n",
              "      <td>390.612324</td>\n",
              "      <td>8.657639</td>\n",
              "      <td>16.974801</td>\n",
              "      <td>0.395835</td>\n",
              "    </tr>\n",
              "    <tr>\n",
              "      <th>min</th>\n",
              "      <td>0.100000</td>\n",
              "      <td>647.000000</td>\n",
              "      <td>0.100000</td>\n",
              "      <td>383.000000</td>\n",
              "      <td>2.000000</td>\n",
              "      <td>322.000000</td>\n",
              "      <td>2.000000</td>\n",
              "      <td>551.000000</td>\n",
              "      <td>221.000000</td>\n",
              "      <td>-1.900000</td>\n",
              "      <td>9.200000</td>\n",
              "      <td>0.184700</td>\n",
              "    </tr>\n",
              "    <tr>\n",
              "      <th>25%</th>\n",
              "      <td>1.200000</td>\n",
              "      <td>941.000000</td>\n",
              "      <td>4.600000</td>\n",
              "      <td>743.000000</td>\n",
              "      <td>112.000000</td>\n",
              "      <td>666.000000</td>\n",
              "      <td>86.000000</td>\n",
              "      <td>1242.000000</td>\n",
              "      <td>742.000000</td>\n",
              "      <td>12.000000</td>\n",
              "      <td>36.600000</td>\n",
              "      <td>0.746100</td>\n",
              "    </tr>\n",
              "    <tr>\n",
              "      <th>50%</th>\n",
              "      <td>2.152750</td>\n",
              "      <td>1075.000000</td>\n",
              "      <td>8.600000</td>\n",
              "      <td>923.000000</td>\n",
              "      <td>229.000000</td>\n",
              "      <td>818.000000</td>\n",
              "      <td>113.091251</td>\n",
              "      <td>1456.264598</td>\n",
              "      <td>983.000000</td>\n",
              "      <td>18.300000</td>\n",
              "      <td>49.234201</td>\n",
              "      <td>1.015400</td>\n",
              "    </tr>\n",
              "    <tr>\n",
              "      <th>75%</th>\n",
              "      <td>2.600000</td>\n",
              "      <td>1221.000000</td>\n",
              "      <td>13.600000</td>\n",
              "      <td>1105.000000</td>\n",
              "      <td>284.000000</td>\n",
              "      <td>960.000000</td>\n",
              "      <td>133.000000</td>\n",
              "      <td>1662.000000</td>\n",
              "      <td>1255.000000</td>\n",
              "      <td>24.100000</td>\n",
              "      <td>61.900000</td>\n",
              "      <td>1.296200</td>\n",
              "    </tr>\n",
              "    <tr>\n",
              "      <th>max</th>\n",
              "      <td>11.900000</td>\n",
              "      <td>2040.000000</td>\n",
              "      <td>63.700000</td>\n",
              "      <td>2214.000000</td>\n",
              "      <td>1479.000000</td>\n",
              "      <td>2683.000000</td>\n",
              "      <td>340.000000</td>\n",
              "      <td>2775.000000</td>\n",
              "      <td>2523.000000</td>\n",
              "      <td>44.600000</td>\n",
              "      <td>88.700000</td>\n",
              "      <td>2.231000</td>\n",
              "    </tr>\n",
              "  </tbody>\n",
              "</table>\n",
              "</div>"
            ],
            "text/plain": [
              "             CO_GT   PT08_S1_CO      C6H6_GT  PT08_S2_NMHC       Nox_GT  \\\n",
              "count  9357.000000  9357.000000  9357.000000   9357.000000  9357.000000   \n",
              "mean      2.152750  1099.833166    10.083105    939.153376   246.896735   \n",
              "std       1.316068   212.791672     7.302650    261.560236   193.426632   \n",
              "min       0.100000   647.000000     0.100000    383.000000     2.000000   \n",
              "25%       1.200000   941.000000     4.600000    743.000000   112.000000   \n",
              "50%       2.152750  1075.000000     8.600000    923.000000   229.000000   \n",
              "75%       2.600000  1221.000000    13.600000   1105.000000   284.000000   \n",
              "max      11.900000  2040.000000    63.700000   2214.000000  1479.000000   \n",
              "\n",
              "       PT08_S3_Nox       NO2_GT  PT08_S4_NO2   PT08_S5_O3            T  \\\n",
              "count  9357.000000  9357.000000  9357.000000  9357.000000  9357.000000   \n",
              "mean    835.493605   113.091251  1456.264598  1022.906128    18.317829   \n",
              "std     251.743954    43.920954   339.367559   390.612324     8.657639   \n",
              "min     322.000000     2.000000   551.000000   221.000000    -1.900000   \n",
              "25%     666.000000    86.000000  1242.000000   742.000000    12.000000   \n",
              "50%     818.000000   113.091251  1456.264598   983.000000    18.300000   \n",
              "75%     960.000000   133.000000  1662.000000  1255.000000    24.100000   \n",
              "max    2683.000000   340.000000  2775.000000  2523.000000    44.600000   \n",
              "\n",
              "                RH           AH  \n",
              "count  9357.000000  9357.000000  \n",
              "mean     49.234201     1.025530  \n",
              "std      16.974801     0.395835  \n",
              "min       9.200000     0.184700  \n",
              "25%      36.600000     0.746100  \n",
              "50%      49.234201     1.015400  \n",
              "75%      61.900000     1.296200  \n",
              "max      88.700000     2.231000  "
            ]
          },
          "execution_count": 50,
          "metadata": {},
          "output_type": "execute_result"
        }
      ],
      "source": [
        "# Review lại dữ liệu \n",
        "df.describe()"
      ]
    },
    {
      "cell_type": "markdown",
      "metadata": {
        "id": "QI3pG9XTUMPc"
      },
      "source": [
        "# **Data Correlation**"
      ]
    },
    {
      "cell_type": "code",
      "execution_count": 51,
      "metadata": {
        "colab": {
          "base_uri": "https://localhost:8080/",
          "height": 681
        },
        "id": "QmnUrBXkXHH7",
        "outputId": "6a11a936-f5e1-4726-b384-52a918301c66"
      },
      "outputs": [
        {
          "name": "stderr",
          "output_type": "stream",
          "text": [
            "/tmp/ipykernel_6582/342818606.py:1: FutureWarning: The default value of numeric_only in DataFrame.corr is deprecated. In a future version, it will default to False. Select only valid columns or specify the value of numeric_only to silence this warning.\n",
            "  corrmat = df.corr()\n",
            "/tmp/ipykernel_6582/342818606.py:4: FutureWarning: The default value of numeric_only in DataFrame.corr is deprecated. In a future version, it will default to False. Select only valid columns or specify the value of numeric_only to silence this warning.\n",
            "  sns.heatmap(df.corr(), annot=True, linewidth=.2)\n"
          ]
        },
        {
          "data": {
            "text/plain": [
              "<AxesSubplot: >"
            ]
          },
          "execution_count": 51,
          "metadata": {},
          "output_type": "execute_result"
        },
        {
          "data": {
            "image/png": "[encoded data removed]",
            "text/plain": [
              "<Figure size 1000x1000 with 2 Axes>"
            ]
          },
          "metadata": {},
          "output_type": "display_data"
        }
      ],
      "source": [
        "corrmat = df.corr()\n",
        "topcorr = corrmat.index\n",
        "plt.figure(figsize=(10,10))\n",
        "sns.heatmap(df.corr(), annot=True, linewidth=.2)"
      ]
    },
    {
      "cell_type": "code",
      "execution_count": 52,
      "metadata": {
        "id": "5Q2G0XZD-3r9"
      },
      "outputs": [],
      "source": [
        "# sns.pairplot(df)"
      ]
    },
    {
      "cell_type": "code",
      "execution_count": 53,
      "metadata": {
        "colab": {
          "base_uri": "https://localhost:8080/",
          "height": 298
        },
        "id": "Z-5vbREXCTzg",
        "outputId": "8351e8da-d5d1-4aba-a738-883bd8fc3752"
      },
      "outputs": [
        {
          "data": {
            "text/plain": [
              "<AxesSubplot: xlabel='C6H6_GT', ylabel='PT08_S1_CO'>"
            ]
          },
          "execution_count": 53,
          "metadata": {},
          "output_type": "execute_result"
        },
        {
          "data": {
            "image/png": "[encoded data removed]",
            "text/plain": [
              "<Figure size 640x480 with 1 Axes>"
            ]
          },
          "metadata": {},
          "output_type": "display_data"
        }
      ],
      "source": [
        "df.plot(kind='scatter', x='C6H6_GT', y='PT08_S1_CO')"
      ]
    },
    {
      "cell_type": "markdown",
      "metadata": {
        "id": "_2xRrrLCH179"
      },
      "source": [
        "+ **Kết luận**: Nhận thấy độ tương quan của C6H6_GT với một số thành phần tương đối cao: 0.98, 0.88, 0.81 "
      ]
    },
    {
      "cell_type": "markdown",
      "metadata": {
        "id": "Xl1hOKmjYDOJ"
      },
      "source": [
        "# **Data Preparation**"
      ]
    },
    {
      "cell_type": "code",
      "execution_count": 54,
      "metadata": {
        "id": "0bGegYRIJUcs"
      },
      "outputs": [],
      "source": [
        "# Xác định input và output\n",
        "data = df\n",
        "data = data.drop('DateTime', axis=1)\n",
        "data = data.drop('C6H6_GT', axis=1)\n",
        "labels = df['C6H6_GT']"
      ]
    },
    {
      "cell_type": "code",
      "execution_count": 55,
      "metadata": {
        "colab": {
          "base_uri": "https://localhost:8080/"
        },
        "id": "t0oT5TL3MYoW",
        "outputId": "4c861a70-74d3-49eb-9d83-eef01fea05c5"
      },
      "outputs": [
        {
          "name": "stdout",
          "output_type": "stream",
          "text": [
            "(6549, 11) (6549,)\n",
            "(2808, 11) (2808,)\n"
          ]
        }
      ],
      "source": [
        "#train/test split\n",
        "X_train, X_test, y_train, y_test = train_test_split(data, labels, test_size=0.3)\n",
        "\n",
        "sc = StandardScaler()\n",
        "# X_train = sc.fit_transform(X_train)\n",
        "# X_test = sc.transform (X_test)\n",
        "\n",
        "print(X_train.shape, y_train.shape)\n",
        "print(X_test.shape, y_test.shape)"
      ]
    },
    {
      "cell_type": "markdown",
      "metadata": {
        "id": "pRXucpZVJJfK"
      },
      "source": [
        "# **Predictions with Linear Regression**"
      ]
    },
    {
      "cell_type": "markdown",
      "metadata": {
        "id": "IJcEDLf5Yy6L"
      },
      "source": [
        "#### **Train the Linear Regression (default)**"
      ]
    },
    {
      "cell_type": "code",
      "execution_count": 56,
      "metadata": {
        "id": "i6dBFud6T5I3"
      },
      "outputs": [],
      "source": [
        "linear_model = LinearRegression()\n",
        "linear_model.fit(X_train, y_train)\n",
        "y_pred_linear = linear_model.predict(X_test)"
      ]
    },
    {
      "cell_type": "code",
      "execution_count": 57,
      "metadata": {
        "colab": {
          "base_uri": "https://localhost:8080/"
        },
        "id": "4xKm9Pg-Dy98",
        "outputId": "9fc61138-6fa0-4df0-f4f9-8f446d68d35e"
      },
      "outputs": [
        {
          "data": {
            "text/plain": [
              "0.9752453205012515"
            ]
          },
          "execution_count": 57,
          "metadata": {},
          "output_type": "execute_result"
        }
      ],
      "source": [
        "linear_model.score(X_test,y_test)"
      ]
    },
    {
      "cell_type": "code",
      "execution_count": 58,
      "metadata": {
        "colab": {
          "base_uri": "https://localhost:8080/",
          "height": 355
        },
        "id": "FQXJ2HDwFLdc",
        "outputId": "ef3c892f-d022-43da-c099-fa069cc4fb19"
      },
      "outputs": [
        {
          "name": "stderr",
          "output_type": "stream",
          "text": [
            "/tmp/ipykernel_6582/4231953200.py:1: UserWarning: \n",
            "\n",
            "`distplot` is a deprecated function and will be removed in seaborn v0.14.0.\n",
            "\n",
            "Please adapt your code to use either `displot` (a figure-level function with\n",
            "similar flexibility) or `histplot` (an axes-level function for histograms).\n",
            "\n",
            "For a guide to updating your code to use the new functions, please see\n",
            "https://gist.github.com/mwaskom/de44147ed2974457ad6372750bbe5751\n",
            "\n",
            "  sns.distplot(y_test-y_pred_linear)\n"
          ]
        },
        {
          "data": {
            "text/plain": [
              "<AxesSubplot: xlabel='C6H6_GT', ylabel='Density'>"
            ]
          },
          "execution_count": 58,
          "metadata": {},
          "output_type": "execute_result"
        },
        {
          "data": {
            "image/png": "[encoded data removed]",
            "text/plain": [
              "<Figure size 640x480 with 1 Axes>"
            ]
          },
          "metadata": {},
          "output_type": "display_data"
        }
      ],
      "source": [
        "sns.distplot(y_test-y_pred_linear)"
      ]
    },
    {
      "cell_type": "markdown",
      "metadata": {
        "id": "nUMQ5Oqidvzg"
      },
      "source": [
        "#### **Hyperparameter Tuning**"
      ]
    },
    {
      "cell_type": "code",
      "execution_count": 59,
      "metadata": {
        "id": "SV9H_7lyeJsw"
      },
      "outputs": [],
      "source": [
        "parameters = {\"fit_intercept\": [True, False],\n",
        "              \"copy_X\": [True, False], \n",
        "              \"positive\": [True, False]\n",
        "             }"
      ]
    },
    {
      "cell_type": "code",
      "execution_count": 60,
      "metadata": {
        "colab": {
          "base_uri": "https://localhost:8080/"
        },
        "id": "alBfapEdL9OQ",
        "outputId": "4621c282-d418-4ca0-b3b8-66d70d096cb9"
      },
      "outputs": [
        {
          "name": "stdout",
          "output_type": "stream",
          "text": [
            "{'copy_X': True, 'fit_intercept': True, 'positive': False}\n"
          ]
        }
      ],
      "source": [
        "tuning_model = GridSearchCV(LinearRegression(), parameters, cv = 2) #cv: là số lần thẩm định\n",
        "tuning_model.fit(X_train, y_train)\n",
        "print(tuning_model.best_params_)"
      ]
    },
    {
      "cell_type": "markdown",
      "metadata": {
        "id": "rE1CgdUbdklG"
      },
      "source": [
        "#### **Train the Linear Regression With Best Hyperparameters**"
      ]
    },
    {
      "cell_type": "code",
      "execution_count": 61,
      "metadata": {
        "colab": {
          "base_uri": "https://localhost:8080/"
        },
        "id": "gnBvk5V3rg8T",
        "outputId": "f8c66d52-b873-4cb0-e62e-bfe7b521f155"
      },
      "outputs": [
        {
          "data": {
            "text/html": [
              "<style>#sk-container-id-2 {color: black;background-color: white;}#sk-container-id-2 pre{padding: 0;}#sk-container-id-2 div.sk-toggleable {background-color: white;}#sk-container-id-2 label.sk-toggleable__label {cursor: pointer;display: block;width: 100%;margin-bottom: 0;padding: 0.3em;box-sizing: border-box;text-align: center;}#sk-container-id-2 label.sk-toggleable__label-arrow:before {content: \"▸\";float: left;margin-right: 0.25em;color: #696969;}#sk-container-id-2 label.sk-toggleable__label-arrow:hover:before {color: black;}#sk-container-id-2 div.sk-estimator:hover label.sk-toggleable__label-arrow:before {color: black;}#sk-container-id-2 div.sk-toggleable__content {max-height: 0;max-width: 0;overflow: hidden;text-align: left;background-color: #f0f8ff;}#sk-container-id-2 div.sk-toggleable__content pre {margin: 0.2em;color: black;border-radius: 0.25em;background-color: #f0f8ff;}#sk-container-id-2 input.sk-toggleable__control:checked~div.sk-toggleable__content {max-height: 200px;max-width: 100%;overflow: auto;}#sk-container-id-2 input.sk-toggleable__control:checked~label.sk-toggleable__label-arrow:before {content: \"▾\";}#sk-container-id-2 div.sk-estimator input.sk-toggleable__control:checked~label.sk-toggleable__label {background-color: #d4ebff;}#sk-container-id-2 div.sk-label input.sk-toggleable__control:checked~label.sk-toggleable__label {background-color: #d4ebff;}#sk-container-id-2 input.sk-hidden--visually {border: 0;clip: rect(1px 1px 1px 1px);clip: rect(1px, 1px, 1px, 1px);height: 1px;margin: -1px;overflow: hidden;padding: 0;position: absolute;width: 1px;}#sk-container-id-2 div.sk-estimator {font-family: monospace;background-color: #f0f8ff;border: 1px dotted black;border-radius: 0.25em;box-sizing: border-box;margin-bottom: 0.5em;}#sk-container-id-2 div.sk-estimator:hover {background-color: #d4ebff;}#sk-container-id-2 div.sk-parallel-item::after {content: \"\";width: 100%;border-bottom: 1px solid gray;flex-grow: 1;}#sk-container-id-2 div.sk-label:hover label.sk-toggleable__label {background-color: #d4ebff;}#sk-container-id-2 div.sk-serial::before {content: \"\";position: absolute;border-left: 1px solid gray;box-sizing: border-box;top: 0;bottom: 0;left: 50%;z-index: 0;}#sk-container-id-2 div.sk-serial {display: flex;flex-direction: column;align-items: center;background-color: white;padding-right: 0.2em;padding-left: 0.2em;position: relative;}#sk-container-id-2 div.sk-item {position: relative;z-index: 1;}#sk-container-id-2 div.sk-parallel {display: flex;align-items: stretch;justify-content: center;background-color: white;position: relative;}#sk-container-id-2 div.sk-item::before, #sk-container-id-2 div.sk-parallel-item::before {content: \"\";position: absolute;border-left: 1px solid gray;box-sizing: border-box;top: 0;bottom: 0;left: 50%;z-index: -1;}#sk-container-id-2 div.sk-parallel-item {display: flex;flex-direction: column;z-index: 1;position: relative;background-color: white;}#sk-container-id-2 div.sk-parallel-item:first-child::after {align-self: flex-end;width: 50%;}#sk-container-id-2 div.sk-parallel-item:last-child::after {align-self: flex-start;width: 50%;}#sk-container-id-2 div.sk-parallel-item:only-child::after {width: 0;}#sk-container-id-2 div.sk-dashed-wrapped {border: 1px dashed gray;margin: 0 0.4em 0.5em 0.4em;box-sizing: border-box;padding-bottom: 0.4em;background-color: white;}#sk-container-id-2 div.sk-label label {font-family: monospace;font-weight: bold;display: inline-block;line-height: 1.2em;}#sk-container-id-2 div.sk-label-container {text-align: center;}#sk-container-id-2 div.sk-container {/* jupyter's `normalize.less` sets `[hidden] { display: none; }` but bootstrap.min.css set `[hidden] { display: none !important; }` so we also need the `!important` here to be able to override the default hidden behavior on the sphinx rendered scikit-learn.org. See: https://github.com/scikit-learn/scikit-learn/issues/21755 */display: inline-block !important;position: relative;}#sk-container-id-2 div.sk-text-repr-fallback {display: none;}</style><div id=\"sk-container-id-2\" class=\"sk-top-container\"><div class=\"sk-text-repr-fallback\"><pre>LinearRegression()</pre><b>In a Jupyter environment, please rerun this cell to show the HTML representation or trust the notebook. <br />On GitHub, the HTML representation is unable to render, please try loading this page with nbviewer.org.</b></div><div class=\"sk-container\" hidden><div class=\"sk-item\"><div class=\"sk-estimator sk-toggleable\"><input class=\"sk-toggleable__control sk-hidden--visually\" id=\"sk-estimator-id-2\" type=\"checkbox\" checked><label for=\"sk-estimator-id-2\" class=\"sk-toggleable__label sk-toggleable__label-arrow\">LinearRegression</label><div class=\"sk-toggleable__content\"><pre>LinearRegression()</pre></div></div></div></div></div>"
            ],
            "text/plain": [
              "LinearRegression()"
            ]
          },
          "execution_count": 61,
          "metadata": {},
          "output_type": "execute_result"
        }
      ],
      "source": [
        "linear_model_tuned = LinearRegression(copy_X=True, fit_intercept=True, positive=False)\n",
        "linear_model_tuned.fit(X_train, y_train)"
      ]
    },
    {
      "cell_type": "code",
      "execution_count": 62,
      "metadata": {
        "colab": {
          "base_uri": "https://localhost:8080/",
          "height": 283
        },
        "id": "tPtEqR30M-4_",
        "outputId": "6fd42061-55c1-452f-cffc-20eff7c4d64d"
      },
      "outputs": [
        {
          "data": {
            "text/plain": [
              "<matplotlib.collections.PathCollection at 0x7f089dc61850>"
            ]
          },
          "execution_count": 62,
          "metadata": {},
          "output_type": "execute_result"
        },
        {
          "data": {
            "image/png": "[encoded data removed]",
            "text/plain": [
              "<Figure size 640x480 with 1 Axes>"
            ]
          },
          "metadata": {},
          "output_type": "display_data"
        }
      ],
      "source": [
        "y_pred_linear_tuned = linear_model_tuned.predict(X_test)\n",
        "plt.scatter(y_test,y_pred_linear_tuned)"
      ]
    },
    {
      "cell_type": "code",
      "execution_count": 63,
      "metadata": {
        "colab": {
          "base_uri": "https://localhost:8080/"
        },
        "id": "fcbK0MfMsOlB",
        "outputId": "ffeaf11d-6c10-424b-ba5b-4ae8334fa35b"
      },
      "outputs": [
        {
          "name": "stdout",
          "output_type": "stream",
          "text": [
            "score 0.9752453205012515\n",
            "MSE 1.304505194140597\n",
            "MAE 0.8098022490455529\n"
          ]
        }
      ],
      "source": [
        "print(\"score\", linear_model_tuned.score(X_test, y_test))\n",
        "print(\"MSE\", mean_squared_error(y_test, y_pred_linear_tuned))\n",
        "print(\"MAE\", mean_absolute_error(y_test, y_pred_linear_tuned))"
      ]
    },
    {
      "cell_type": "markdown",
      "metadata": {
        "id": "ksS4bIXM5FZF"
      },
      "source": [
        "# **Predictions with Support Vector Machines**"
      ]
    },
    {
      "cell_type": "markdown",
      "metadata": {
        "id": "1uw6lugRuqGp"
      },
      "source": [
        "#### **Traning Support Vector Machines (default)**"
      ]
    },
    {
      "cell_type": "code",
      "execution_count": 64,
      "metadata": {
        "id": "vYGIbBdNvApw"
      },
      "outputs": [],
      "source": [
        "svm_model = SVR()\n",
        "svm_model.fit(X_train, y_train)\n",
        "y_pred_svm = svm_model.predict(X_test)"
      ]
    },
    {
      "cell_type": "code",
      "execution_count": 65,
      "metadata": {
        "colab": {
          "base_uri": "https://localhost:8080/"
        },
        "id": "_D-ZLQQB6wYG",
        "outputId": "f4fa9b70-3538-47b1-d8a7-c1c32ef736ca"
      },
      "outputs": [
        {
          "data": {
            "text/plain": [
              "0.9919001785947281"
            ]
          },
          "execution_count": 65,
          "metadata": {},
          "output_type": "execute_result"
        }
      ],
      "source": [
        "svm_model.score(X_test,y_test)"
      ]
    },
    {
      "cell_type": "code",
      "execution_count": 66,
      "metadata": {
        "colab": {
          "base_uri": "https://localhost:8080/",
          "height": 355
        },
        "id": "ZX1uyFoN7Aa2",
        "outputId": "89139bf3-17c3-4666-cd78-58843d48d935"
      },
      "outputs": [
        {
          "name": "stderr",
          "output_type": "stream",
          "text": [
            "/tmp/ipykernel_6582/3961391269.py:1: UserWarning: \n",
            "\n",
            "`distplot` is a deprecated function and will be removed in seaborn v0.14.0.\n",
            "\n",
            "Please adapt your code to use either `displot` (a figure-level function with\n",
            "similar flexibility) or `histplot` (an axes-level function for histograms).\n",
            "\n",
            "For a guide to updating your code to use the new functions, please see\n",
            "https://gist.github.com/mwaskom/de44147ed2974457ad6372750bbe5751\n",
            "\n",
            "  sns.distplot(y_test-y_pred_svm)\n"
          ]
        },
        {
          "data": {
            "text/plain": [
              "<AxesSubplot: xlabel='C6H6_GT', ylabel='Density'>"
            ]
          },
          "execution_count": 66,
          "metadata": {},
          "output_type": "execute_result"
        },
        {
          "data": {
            "image/png": "[encoded data removed]",
            "text/plain": [
              "<Figure size 640x480 with 1 Axes>"
            ]
          },
          "metadata": {},
          "output_type": "display_data"
        }
      ],
      "source": [
        "sns.distplot(y_test-y_pred_svm)"
      ]
    },
    {
      "cell_type": "markdown",
      "metadata": {
        "id": "grTEX2jH7hXI"
      },
      "source": [
        "#### **Hyperparameter Tuning**"
      ]
    },
    {
      "cell_type": "code",
      "execution_count": 67,
      "metadata": {
        "id": "DTQGji2e7rKG"
      },
      "outputs": [],
      "source": [
        "parameters = {'C': [0.1, 1, 10, 100], \n",
        "              'gamma': [1, 0.1, 0.01, 0.001],\n",
        "              'kernel': ['poly', 'rbf', 'sigmoid']\n",
        "             }"
      ]
    },
    {
      "cell_type": "code",
      "execution_count": 68,
      "metadata": {
        "id": "Y9H9-KQ69P-C"
      },
      "outputs": [
        {
          "ename": "KeyboardInterrupt",
          "evalue": "",
          "output_type": "error",
          "traceback": [
            "\u001b[0;31m---------------------------------------------------------------------------\u001b[0m",
            "\u001b[0;31mKeyboardInterrupt\u001b[0m                         Traceback (most recent call last)",
            "Cell \u001b[0;32mIn[68], line 2\u001b[0m\n\u001b[1;32m      1\u001b[0m tuning_model \u001b[39m=\u001b[39m RandomizedSearchCV(SVR(), parameters, cv \u001b[39m=\u001b[39m \u001b[39m3\u001b[39m, n_iter \u001b[39m=\u001b[39m \u001b[39m10\u001b[39m, n_jobs \u001b[39m=\u001b[39m \u001b[39m-\u001b[39m\u001b[39m1\u001b[39m)\n\u001b[0;32m----> 2\u001b[0m tuning_model\u001b[39m.\u001b[39;49mfit(X_train, y_train)\n\u001b[1;32m      3\u001b[0m \u001b[39mprint\u001b[39m(tuning_model\u001b[39m.\u001b[39mbest_params_)\n",
            "File \u001b[0;32m/usr/lib64/python3.11/site-packages/sklearn/model_selection/_search.py:875\u001b[0m, in \u001b[0;36mBaseSearchCV.fit\u001b[0;34m(self, X, y, groups, **fit_params)\u001b[0m\n\u001b[1;32m    869\u001b[0m     results \u001b[39m=\u001b[39m \u001b[39mself\u001b[39m\u001b[39m.\u001b[39m_format_results(\n\u001b[1;32m    870\u001b[0m         all_candidate_params, n_splits, all_out, all_more_results\n\u001b[1;32m    871\u001b[0m     )\n\u001b[1;32m    873\u001b[0m     \u001b[39mreturn\u001b[39;00m results\n\u001b[0;32m--> 875\u001b[0m \u001b[39mself\u001b[39;49m\u001b[39m.\u001b[39;49m_run_search(evaluate_candidates)\n\u001b[1;32m    877\u001b[0m \u001b[39m# multimetric is determined here because in the case of a callable\u001b[39;00m\n\u001b[1;32m    878\u001b[0m \u001b[39m# self.scoring the return type is only known after calling\u001b[39;00m\n\u001b[1;32m    879\u001b[0m first_test_score \u001b[39m=\u001b[39m all_out[\u001b[39m0\u001b[39m][\u001b[39m\"\u001b[39m\u001b[39mtest_scores\u001b[39m\u001b[39m\"\u001b[39m]\n",
            "File \u001b[0;32m/usr/lib64/python3.11/site-packages/sklearn/model_selection/_search.py:1753\u001b[0m, in \u001b[0;36mRandomizedSearchCV._run_search\u001b[0;34m(self, evaluate_candidates)\u001b[0m\n\u001b[1;32m   1751\u001b[0m \u001b[39mdef\u001b[39;00m \u001b[39m_run_search\u001b[39m(\u001b[39mself\u001b[39m, evaluate_candidates):\n\u001b[1;32m   1752\u001b[0m     \u001b[39m\"\"\"Search n_iter candidates from param_distributions\"\"\"\u001b[39;00m\n\u001b[0;32m-> 1753\u001b[0m     evaluate_candidates(\n\u001b[1;32m   1754\u001b[0m         ParameterSampler(\n\u001b[1;32m   1755\u001b[0m             \u001b[39mself\u001b[39;49m\u001b[39m.\u001b[39;49mparam_distributions, \u001b[39mself\u001b[39;49m\u001b[39m.\u001b[39;49mn_iter, random_state\u001b[39m=\u001b[39;49m\u001b[39mself\u001b[39;49m\u001b[39m.\u001b[39;49mrandom_state\n\u001b[1;32m   1756\u001b[0m         )\n\u001b[1;32m   1757\u001b[0m     )\n",
            "File \u001b[0;32m/usr/lib64/python3.11/site-packages/sklearn/model_selection/_search.py:822\u001b[0m, in \u001b[0;36mBaseSearchCV.fit.<locals>.evaluate_candidates\u001b[0;34m(candidate_params, cv, more_results)\u001b[0m\n\u001b[1;32m    814\u001b[0m \u001b[39mif\u001b[39;00m \u001b[39mself\u001b[39m\u001b[39m.\u001b[39mverbose \u001b[39m>\u001b[39m \u001b[39m0\u001b[39m:\n\u001b[1;32m    815\u001b[0m     \u001b[39mprint\u001b[39m(\n\u001b[1;32m    816\u001b[0m         \u001b[39m\"\u001b[39m\u001b[39mFitting \u001b[39m\u001b[39m{0}\u001b[39;00m\u001b[39m folds for each of \u001b[39m\u001b[39m{1}\u001b[39;00m\u001b[39m candidates,\u001b[39m\u001b[39m\"\u001b[39m\n\u001b[1;32m    817\u001b[0m         \u001b[39m\"\u001b[39m\u001b[39m totalling \u001b[39m\u001b[39m{2}\u001b[39;00m\u001b[39m fits\u001b[39m\u001b[39m\"\u001b[39m\u001b[39m.\u001b[39mformat(\n\u001b[1;32m    818\u001b[0m             n_splits, n_candidates, n_candidates \u001b[39m*\u001b[39m n_splits\n\u001b[1;32m    819\u001b[0m         )\n\u001b[1;32m    820\u001b[0m     )\n\u001b[0;32m--> 822\u001b[0m out \u001b[39m=\u001b[39m parallel(\n\u001b[1;32m    823\u001b[0m     delayed(_fit_and_score)(\n\u001b[1;32m    824\u001b[0m         clone(base_estimator),\n\u001b[1;32m    825\u001b[0m         X,\n\u001b[1;32m    826\u001b[0m         y,\n\u001b[1;32m    827\u001b[0m         train\u001b[39m=\u001b[39;49mtrain,\n\u001b[1;32m    828\u001b[0m         test\u001b[39m=\u001b[39;49mtest,\n\u001b[1;32m    829\u001b[0m         parameters\u001b[39m=\u001b[39;49mparameters,\n\u001b[1;32m    830\u001b[0m         split_progress\u001b[39m=\u001b[39;49m(split_idx, n_splits),\n\u001b[1;32m    831\u001b[0m         candidate_progress\u001b[39m=\u001b[39;49m(cand_idx, n_candidates),\n\u001b[1;32m    832\u001b[0m         \u001b[39m*\u001b[39;49m\u001b[39m*\u001b[39;49mfit_and_score_kwargs,\n\u001b[1;32m    833\u001b[0m     )\n\u001b[1;32m    834\u001b[0m     \u001b[39mfor\u001b[39;49;00m (cand_idx, parameters), (split_idx, (train, test)) \u001b[39min\u001b[39;49;00m product(\n\u001b[1;32m    835\u001b[0m         \u001b[39menumerate\u001b[39;49m(candidate_params), \u001b[39menumerate\u001b[39;49m(cv\u001b[39m.\u001b[39;49msplit(X, y, groups))\n\u001b[1;32m    836\u001b[0m     )\n\u001b[1;32m    837\u001b[0m )\n\u001b[1;32m    839\u001b[0m \u001b[39mif\u001b[39;00m \u001b[39mlen\u001b[39m(out) \u001b[39m<\u001b[39m \u001b[39m1\u001b[39m:\n\u001b[1;32m    840\u001b[0m     \u001b[39mraise\u001b[39;00m \u001b[39mValueError\u001b[39;00m(\n\u001b[1;32m    841\u001b[0m         \u001b[39m\"\u001b[39m\u001b[39mNo fits were performed. \u001b[39m\u001b[39m\"\u001b[39m\n\u001b[1;32m    842\u001b[0m         \u001b[39m\"\u001b[39m\u001b[39mWas the CV iterator empty? \u001b[39m\u001b[39m\"\u001b[39m\n\u001b[1;32m    843\u001b[0m         \u001b[39m\"\u001b[39m\u001b[39mWere there no candidates?\u001b[39m\u001b[39m\"\u001b[39m\n\u001b[1;32m    844\u001b[0m     )\n",
            "File \u001b[0;32m/usr/lib/python3.11/site-packages/joblib/parallel.py:1098\u001b[0m, in \u001b[0;36mParallel.__call__\u001b[0;34m(self, iterable)\u001b[0m\n\u001b[1;32m   1095\u001b[0m     \u001b[39mself\u001b[39m\u001b[39m.\u001b[39m_iterating \u001b[39m=\u001b[39m \u001b[39mFalse\u001b[39;00m\n\u001b[1;32m   1097\u001b[0m \u001b[39mwith\u001b[39;00m \u001b[39mself\u001b[39m\u001b[39m.\u001b[39m_backend\u001b[39m.\u001b[39mretrieval_context():\n\u001b[0;32m-> 1098\u001b[0m     \u001b[39mself\u001b[39;49m\u001b[39m.\u001b[39;49mretrieve()\n\u001b[1;32m   1099\u001b[0m \u001b[39m# Make sure that we get a last message telling us we are done\u001b[39;00m\n\u001b[1;32m   1100\u001b[0m elapsed_time \u001b[39m=\u001b[39m time\u001b[39m.\u001b[39mtime() \u001b[39m-\u001b[39m \u001b[39mself\u001b[39m\u001b[39m.\u001b[39m_start_time\n",
            "File \u001b[0;32m/usr/lib/python3.11/site-packages/joblib/parallel.py:975\u001b[0m, in \u001b[0;36mParallel.retrieve\u001b[0;34m(self)\u001b[0m\n\u001b[1;32m    973\u001b[0m \u001b[39mtry\u001b[39;00m:\n\u001b[1;32m    974\u001b[0m     \u001b[39mif\u001b[39;00m \u001b[39mgetattr\u001b[39m(\u001b[39mself\u001b[39m\u001b[39m.\u001b[39m_backend, \u001b[39m'\u001b[39m\u001b[39msupports_timeout\u001b[39m\u001b[39m'\u001b[39m, \u001b[39mFalse\u001b[39;00m):\n\u001b[0;32m--> 975\u001b[0m         \u001b[39mself\u001b[39m\u001b[39m.\u001b[39m_output\u001b[39m.\u001b[39mextend(job\u001b[39m.\u001b[39;49mget(timeout\u001b[39m=\u001b[39;49m\u001b[39mself\u001b[39;49m\u001b[39m.\u001b[39;49mtimeout))\n\u001b[1;32m    976\u001b[0m     \u001b[39melse\u001b[39;00m:\n\u001b[1;32m    977\u001b[0m         \u001b[39mself\u001b[39m\u001b[39m.\u001b[39m_output\u001b[39m.\u001b[39mextend(job\u001b[39m.\u001b[39mget())\n",
            "File \u001b[0;32m/usr/lib/python3.11/site-packages/joblib/_parallel_backends.py:567\u001b[0m, in \u001b[0;36mLokyBackend.wrap_future_result\u001b[0;34m(future, timeout)\u001b[0m\n\u001b[1;32m    564\u001b[0m \u001b[39m\"\"\"Wrapper for Future.result to implement the same behaviour as\u001b[39;00m\n\u001b[1;32m    565\u001b[0m \u001b[39mAsyncResults.get from multiprocessing.\"\"\"\u001b[39;00m\n\u001b[1;32m    566\u001b[0m \u001b[39mtry\u001b[39;00m:\n\u001b[0;32m--> 567\u001b[0m     \u001b[39mreturn\u001b[39;00m future\u001b[39m.\u001b[39;49mresult(timeout\u001b[39m=\u001b[39;49mtimeout)\n\u001b[1;32m    568\u001b[0m \u001b[39mexcept\u001b[39;00m CfTimeoutError \u001b[39mas\u001b[39;00m e:\n\u001b[1;32m    569\u001b[0m     \u001b[39mraise\u001b[39;00m \u001b[39mTimeoutError\u001b[39;00m \u001b[39mfrom\u001b[39;00m \u001b[39me\u001b[39;00m\n",
            "File \u001b[0;32m/usr/lib64/python3.11/concurrent/futures/_base.py:451\u001b[0m, in \u001b[0;36mFuture.result\u001b[0;34m(self, timeout)\u001b[0m\n\u001b[1;32m    448\u001b[0m \u001b[39melif\u001b[39;00m \u001b[39mself\u001b[39m\u001b[39m.\u001b[39m_state \u001b[39m==\u001b[39m FINISHED:\n\u001b[1;32m    449\u001b[0m     \u001b[39mreturn\u001b[39;00m \u001b[39mself\u001b[39m\u001b[39m.\u001b[39m__get_result()\n\u001b[0;32m--> 451\u001b[0m \u001b[39mself\u001b[39;49m\u001b[39m.\u001b[39;49m_condition\u001b[39m.\u001b[39;49mwait(timeout)\n\u001b[1;32m    453\u001b[0m \u001b[39mif\u001b[39;00m \u001b[39mself\u001b[39m\u001b[39m.\u001b[39m_state \u001b[39min\u001b[39;00m [CANCELLED, CANCELLED_AND_NOTIFIED]:\n\u001b[1;32m    454\u001b[0m     \u001b[39mraise\u001b[39;00m CancelledError()\n",
            "File \u001b[0;32m/usr/lib64/python3.11/threading.py:320\u001b[0m, in \u001b[0;36mCondition.wait\u001b[0;34m(self, timeout)\u001b[0m\n\u001b[1;32m    318\u001b[0m \u001b[39mtry\u001b[39;00m:    \u001b[39m# restore state no matter what (e.g., KeyboardInterrupt)\u001b[39;00m\n\u001b[1;32m    319\u001b[0m     \u001b[39mif\u001b[39;00m timeout \u001b[39mis\u001b[39;00m \u001b[39mNone\u001b[39;00m:\n\u001b[0;32m--> 320\u001b[0m         waiter\u001b[39m.\u001b[39;49macquire()\n\u001b[1;32m    321\u001b[0m         gotit \u001b[39m=\u001b[39m \u001b[39mTrue\u001b[39;00m\n\u001b[1;32m    322\u001b[0m     \u001b[39melse\u001b[39;00m:\n",
            "\u001b[0;31mKeyboardInterrupt\u001b[0m: "
          ]
        }
      ],
      "source": [
        "tuning_model = RandomizedSearchCV(SVR(), parameters, cv = 3, n_iter = 10, n_jobs = -1)\n",
        "tuning_model.fit(X_train, y_train)\n",
        "print(tuning_model.best_params_)"
      ]
    },
    {
      "cell_type": "markdown",
      "metadata": {
        "id": "JtDqF9fdAVdA"
      },
      "source": [
        "#### **Train the Support Vector Machines With Best Hyperparameters**"
      ]
    }
  ],
  "metadata": {
    "colab": {
      "provenance": []
    },
    "kernelspec": {
      "display_name": "Python 3",
      "language": "python",
      "name": "python3"
    },
    "language_info": {
      "codemirror_mode": {
        "name": "ipython",
        "version": 3
      },
      "file_extension": ".py",
      "mimetype": "text/x-python",
      "name": "python",
      "nbconvert_exporter": "python",
      "pygments_lexer": "ipython3",
      "version": "3.11.1"
    },
    "vscode": {
      "interpreter": {
        "hash": "e7370f93d1d0cde622a1f8e1c04877d8463912d04d973331ad4851f04de6915a"
      }
    }
  },
  "nbformat": 4,
  "nbformat_minor": 0
}
