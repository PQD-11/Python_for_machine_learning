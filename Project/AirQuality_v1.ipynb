{
  "nbformat": 4,
  "nbformat_minor": 0,
  "metadata": {
    "colab": {
      "provenance": []
    },
    "kernelspec": {
      "name": "python3",
      "display_name": "Python 3"
    },
    "language_info": {
      "name": "python"
    }
  },
  "cells": [
    {
      "cell_type": "markdown",
      "source": [
        "<h1><center><b>Project: AirQuality</b></center><h1>"
      ],
      "metadata": {
        "id": "YuHieTvIRBIY"
      }
    },
    {
      "cell_type": "markdown",
      "source": [
        "# **Loading and understanding the dataset**"
      ],
      "metadata": {
        "id": "Pe_Hax-gvt3N"
      }
    },
    {
      "cell_type": "code",
      "execution_count": null,
      "metadata": {
        "id": "3HJBKzOYj9yw"
      },
      "outputs": [],
      "source": [
        "import numpy as np \n",
        "import matplotlib.pyplot as plt\n",
        "import pandas as pd\n",
        "import seaborn as sns\n",
        "from sklearn.model_selection import train_test_split, GridSearchCV, RandomizedSearchCV\n",
        "from sklearn.linear_model import LinearRegression\n",
        "from sklearn.svm import SVR\n",
        "from sklearn.neighbors import KNeighborsRegressor\n",
        "from sklearn.metrics import mean_squared_error, mean_absolute_error\n",
        "from sklearn.preprocessing import StandardScaler"
      ]
    },
    {
      "cell_type": "code",
      "source": [
        "df = pd.read_csv('AirQualityUCI.csv', parse_dates={'DateTime': ['Date', 'Time']})\n",
        "df"
      ],
      "metadata": {
        "colab": {
          "base_uri": "https://localhost:8080/",
          "height": 835
        },
        "id": "KhgcufXbkiFX",
        "outputId": "2199ccbe-6d10-49b5-d550-70f83e09d266"
      },
      "execution_count": null,
      "outputs": [
        {
          "output_type": "execute_result",
          "data": {
            "text/plain": [
              "                DateTime  CO_GT  PT08_S1_CO  NMHC_GT  C6H6_GT  PT08_S2_NMHC  \\\n",
              "0    2004-11-23 19:00:00   11.9        2008     -200     50.6          1980   \n",
              "1    2004-11-23 20:00:00   11.5        1918     -200     49.4          1958   \n",
              "2    2004-11-17 18:00:00   10.2        1802     -200     47.7          1924   \n",
              "3    2004-11-23 18:00:00   10.2        1982     -200     49.5          1959   \n",
              "4    2004-11-26 18:00:00   10.1        1956     -200     45.2          1877   \n",
              "...                  ...    ...         ...      ...      ...           ...   \n",
              "9352 2005-03-23 04:00:00 -200.0         993     -200      2.3           604   \n",
              "9353 2005-03-26 04:00:00 -200.0        1122     -200      6.0           811   \n",
              "9354 2005-03-29 04:00:00 -200.0         883     -200      1.3           530   \n",
              "9355 2005-04-01 04:00:00 -200.0         818     -200      0.8           473   \n",
              "9356 2005-04-04 04:00:00 -200.0         864     -200      0.8           478   \n",
              "\n",
              "      Nox_GT  PT08_S3_Nox  NO2_GT  PT08_S4_NO2  PT08_S5_O3     T    RH  \\\n",
              "0       1389          325     220         2562        2342  12.4  74.7   \n",
              "1       1358          335     190         2477        2237  11.5  76.2   \n",
              "2        748          356     192         2235        2452  13.7  52.8   \n",
              "3       1369          322     227         2536        2386  13.2  72.6   \n",
              "4       1389          347     255         2338        2465  15.5  62.8   \n",
              "...      ...          ...     ...          ...         ...   ...   ...   \n",
              "9352      85          848      65         1160         762  14.5  66.4   \n",
              "9353     181          641      92         1336        1122  16.2  71.2   \n",
              "9354      63          997      46         1102         617  13.7  68.2   \n",
              "9355      47         1257      41          898         323  13.7  48.8   \n",
              "9356      52         1116      43          958         489  11.8  56.0   \n",
              "\n",
              "          AH   CO_level  \n",
              "0     1.0741  Very High  \n",
              "1     1.0324  Very High  \n",
              "2     0.8244  Very High  \n",
              "3     1.0936  Very High  \n",
              "4     1.0979  Very High  \n",
              "...      ...        ...  \n",
              "9352  1.0919   Very low  \n",
              "9353  1.3013   Very low  \n",
              "9354  1.0611   Very low  \n",
              "9355  0.7606   Very low  \n",
              "9356  0.7743   Very low  \n",
              "\n",
              "[9357 rows x 15 columns]"
            ],
            "text/html": [
              "\n",
              "  <div id=\"df-eaae2f13-32e0-49ba-9ee5-e1d741f713aa\">\n",
              "    <div class=\"colab-df-container\">\n",
              "      <div>\n",
              "<style scoped>\n",
              "    .dataframe tbody tr th:only-of-type {\n",
              "        vertical-align: middle;\n",
              "    }\n",
              "\n",
              "    .dataframe tbody tr th {\n",
              "        vertical-align: top;\n",
              "    }\n",
              "\n",
              "    .dataframe thead th {\n",
              "        text-align: right;\n",
              "    }\n",
              "</style>\n",
              "<table border=\"1\" class=\"dataframe\">\n",
              "  <thead>\n",
              "    <tr style=\"text-align: right;\">\n",
              "      <th></th>\n",
              "      <th>DateTime</th>\n",
              "      <th>CO_GT</th>\n",
              "      <th>PT08_S1_CO</th>\n",
              "      <th>NMHC_GT</th>\n",
              "      <th>C6H6_GT</th>\n",
              "      <th>PT08_S2_NMHC</th>\n",
              "      <th>Nox_GT</th>\n",
              "      <th>PT08_S3_Nox</th>\n",
              "      <th>NO2_GT</th>\n",
              "      <th>PT08_S4_NO2</th>\n",
              "      <th>PT08_S5_O3</th>\n",
              "      <th>T</th>\n",
              "      <th>RH</th>\n",
              "      <th>AH</th>\n",
              "      <th>CO_level</th>\n",
              "    </tr>\n",
              "  </thead>\n",
              "  <tbody>\n",
              "    <tr>\n",
              "      <th>0</th>\n",
              "      <td>2004-11-23 19:00:00</td>\n",
              "      <td>11.9</td>\n",
              "      <td>2008</td>\n",
              "      <td>-200</td>\n",
              "      <td>50.6</td>\n",
              "      <td>1980</td>\n",
              "      <td>1389</td>\n",
              "      <td>325</td>\n",
              "      <td>220</td>\n",
              "      <td>2562</td>\n",
              "      <td>2342</td>\n",
              "      <td>12.4</td>\n",
              "      <td>74.7</td>\n",
              "      <td>1.0741</td>\n",
              "      <td>Very High</td>\n",
              "    </tr>\n",
              "    <tr>\n",
              "      <th>1</th>\n",
              "      <td>2004-11-23 20:00:00</td>\n",
              "      <td>11.5</td>\n",
              "      <td>1918</td>\n",
              "      <td>-200</td>\n",
              "      <td>49.4</td>\n",
              "      <td>1958</td>\n",
              "      <td>1358</td>\n",
              "      <td>335</td>\n",
              "      <td>190</td>\n",
              "      <td>2477</td>\n",
              "      <td>2237</td>\n",
              "      <td>11.5</td>\n",
              "      <td>76.2</td>\n",
              "      <td>1.0324</td>\n",
              "      <td>Very High</td>\n",
              "    </tr>\n",
              "    <tr>\n",
              "      <th>2</th>\n",
              "      <td>2004-11-17 18:00:00</td>\n",
              "      <td>10.2</td>\n",
              "      <td>1802</td>\n",
              "      <td>-200</td>\n",
              "      <td>47.7</td>\n",
              "      <td>1924</td>\n",
              "      <td>748</td>\n",
              "      <td>356</td>\n",
              "      <td>192</td>\n",
              "      <td>2235</td>\n",
              "      <td>2452</td>\n",
              "      <td>13.7</td>\n",
              "      <td>52.8</td>\n",
              "      <td>0.8244</td>\n",
              "      <td>Very High</td>\n",
              "    </tr>\n",
              "    <tr>\n",
              "      <th>3</th>\n",
              "      <td>2004-11-23 18:00:00</td>\n",
              "      <td>10.2</td>\n",
              "      <td>1982</td>\n",
              "      <td>-200</td>\n",
              "      <td>49.5</td>\n",
              "      <td>1959</td>\n",
              "      <td>1369</td>\n",
              "      <td>322</td>\n",
              "      <td>227</td>\n",
              "      <td>2536</td>\n",
              "      <td>2386</td>\n",
              "      <td>13.2</td>\n",
              "      <td>72.6</td>\n",
              "      <td>1.0936</td>\n",
              "      <td>Very High</td>\n",
              "    </tr>\n",
              "    <tr>\n",
              "      <th>4</th>\n",
              "      <td>2004-11-26 18:00:00</td>\n",
              "      <td>10.1</td>\n",
              "      <td>1956</td>\n",
              "      <td>-200</td>\n",
              "      <td>45.2</td>\n",
              "      <td>1877</td>\n",
              "      <td>1389</td>\n",
              "      <td>347</td>\n",
              "      <td>255</td>\n",
              "      <td>2338</td>\n",
              "      <td>2465</td>\n",
              "      <td>15.5</td>\n",
              "      <td>62.8</td>\n",
              "      <td>1.0979</td>\n",
              "      <td>Very High</td>\n",
              "    </tr>\n",
              "    <tr>\n",
              "      <th>...</th>\n",
              "      <td>...</td>\n",
              "      <td>...</td>\n",
              "      <td>...</td>\n",
              "      <td>...</td>\n",
              "      <td>...</td>\n",
              "      <td>...</td>\n",
              "      <td>...</td>\n",
              "      <td>...</td>\n",
              "      <td>...</td>\n",
              "      <td>...</td>\n",
              "      <td>...</td>\n",
              "      <td>...</td>\n",
              "      <td>...</td>\n",
              "      <td>...</td>\n",
              "      <td>...</td>\n",
              "    </tr>\n",
              "    <tr>\n",
              "      <th>9352</th>\n",
              "      <td>2005-03-23 04:00:00</td>\n",
              "      <td>-200.0</td>\n",
              "      <td>993</td>\n",
              "      <td>-200</td>\n",
              "      <td>2.3</td>\n",
              "      <td>604</td>\n",
              "      <td>85</td>\n",
              "      <td>848</td>\n",
              "      <td>65</td>\n",
              "      <td>1160</td>\n",
              "      <td>762</td>\n",
              "      <td>14.5</td>\n",
              "      <td>66.4</td>\n",
              "      <td>1.0919</td>\n",
              "      <td>Very low</td>\n",
              "    </tr>\n",
              "    <tr>\n",
              "      <th>9353</th>\n",
              "      <td>2005-03-26 04:00:00</td>\n",
              "      <td>-200.0</td>\n",
              "      <td>1122</td>\n",
              "      <td>-200</td>\n",
              "      <td>6.0</td>\n",
              "      <td>811</td>\n",
              "      <td>181</td>\n",
              "      <td>641</td>\n",
              "      <td>92</td>\n",
              "      <td>1336</td>\n",
              "      <td>1122</td>\n",
              "      <td>16.2</td>\n",
              "      <td>71.2</td>\n",
              "      <td>1.3013</td>\n",
              "      <td>Very low</td>\n",
              "    </tr>\n",
              "    <tr>\n",
              "      <th>9354</th>\n",
              "      <td>2005-03-29 04:00:00</td>\n",
              "      <td>-200.0</td>\n",
              "      <td>883</td>\n",
              "      <td>-200</td>\n",
              "      <td>1.3</td>\n",
              "      <td>530</td>\n",
              "      <td>63</td>\n",
              "      <td>997</td>\n",
              "      <td>46</td>\n",
              "      <td>1102</td>\n",
              "      <td>617</td>\n",
              "      <td>13.7</td>\n",
              "      <td>68.2</td>\n",
              "      <td>1.0611</td>\n",
              "      <td>Very low</td>\n",
              "    </tr>\n",
              "    <tr>\n",
              "      <th>9355</th>\n",
              "      <td>2005-04-01 04:00:00</td>\n",
              "      <td>-200.0</td>\n",
              "      <td>818</td>\n",
              "      <td>-200</td>\n",
              "      <td>0.8</td>\n",
              "      <td>473</td>\n",
              "      <td>47</td>\n",
              "      <td>1257</td>\n",
              "      <td>41</td>\n",
              "      <td>898</td>\n",
              "      <td>323</td>\n",
              "      <td>13.7</td>\n",
              "      <td>48.8</td>\n",
              "      <td>0.7606</td>\n",
              "      <td>Very low</td>\n",
              "    </tr>\n",
              "    <tr>\n",
              "      <th>9356</th>\n",
              "      <td>2005-04-04 04:00:00</td>\n",
              "      <td>-200.0</td>\n",
              "      <td>864</td>\n",
              "      <td>-200</td>\n",
              "      <td>0.8</td>\n",
              "      <td>478</td>\n",
              "      <td>52</td>\n",
              "      <td>1116</td>\n",
              "      <td>43</td>\n",
              "      <td>958</td>\n",
              "      <td>489</td>\n",
              "      <td>11.8</td>\n",
              "      <td>56.0</td>\n",
              "      <td>0.7743</td>\n",
              "      <td>Very low</td>\n",
              "    </tr>\n",
              "  </tbody>\n",
              "</table>\n",
              "<p>9357 rows × 15 columns</p>\n",
              "</div>\n",
              "      <button class=\"colab-df-convert\" onclick=\"convertToInteractive('df-eaae2f13-32e0-49ba-9ee5-e1d741f713aa')\"\n",
              "              title=\"Convert this dataframe to an interactive table.\"\n",
              "              style=\"display:none;\">\n",
              "        \n",
              "  <svg xmlns=\"http://www.w3.org/2000/svg\" height=\"24px\"viewBox=\"0 0 24 24\"\n",
              "       width=\"24px\">\n",
              "    <path d=\"M0 0h24v24H0V0z\" fill=\"none\"/>\n",
              "    <path d=\"M18.56 5.44l.94 2.06.94-2.06 2.06-.94-2.06-.94-.94-2.06-.94 2.06-2.06.94zm-11 1L8.5 8.5l.94-2.06 2.06-.94-2.06-.94L8.5 2.5l-.94 2.06-2.06.94zm10 10l.94 2.06.94-2.06 2.06-.94-2.06-.94-.94-2.06-.94 2.06-2.06.94z\"/><path d=\"M17.41 7.96l-1.37-1.37c-.4-.4-.92-.59-1.43-.59-.52 0-1.04.2-1.43.59L10.3 9.45l-7.72 7.72c-.78.78-.78 2.05 0 2.83L4 21.41c.39.39.9.59 1.41.59.51 0 1.02-.2 1.41-.59l7.78-7.78 2.81-2.81c.8-.78.8-2.07 0-2.86zM5.41 20L4 18.59l7.72-7.72 1.47 1.35L5.41 20z\"/>\n",
              "  </svg>\n",
              "      </button>\n",
              "      \n",
              "  <style>\n",
              "    .colab-df-container {\n",
              "      display:flex;\n",
              "      flex-wrap:wrap;\n",
              "      gap: 12px;\n",
              "    }\n",
              "\n",
              "    .colab-df-convert {\n",
              "      background-color: #E8F0FE;\n",
              "      border: none;\n",
              "      border-radius: 50%;\n",
              "      cursor: pointer;\n",
              "      display: none;\n",
              "      fill: #1967D2;\n",
              "      height: 32px;\n",
              "      padding: 0 0 0 0;\n",
              "      width: 32px;\n",
              "    }\n",
              "\n",
              "    .colab-df-convert:hover {\n",
              "      background-color: #E2EBFA;\n",
              "      box-shadow: 0px 1px 2px rgba(60, 64, 67, 0.3), 0px 1px 3px 1px rgba(60, 64, 67, 0.15);\n",
              "      fill: #174EA6;\n",
              "    }\n",
              "\n",
              "    [theme=dark] .colab-df-convert {\n",
              "      background-color: #3B4455;\n",
              "      fill: #D2E3FC;\n",
              "    }\n",
              "\n",
              "    [theme=dark] .colab-df-convert:hover {\n",
              "      background-color: #434B5C;\n",
              "      box-shadow: 0px 1px 3px 1px rgba(0, 0, 0, 0.15);\n",
              "      filter: drop-shadow(0px 1px 2px rgba(0, 0, 0, 0.3));\n",
              "      fill: #FFFFFF;\n",
              "    }\n",
              "  </style>\n",
              "\n",
              "      <script>\n",
              "        const buttonEl =\n",
              "          document.querySelector('#df-eaae2f13-32e0-49ba-9ee5-e1d741f713aa button.colab-df-convert');\n",
              "        buttonEl.style.display =\n",
              "          google.colab.kernel.accessAllowed ? 'block' : 'none';\n",
              "\n",
              "        async function convertToInteractive(key) {\n",
              "          const element = document.querySelector('#df-eaae2f13-32e0-49ba-9ee5-e1d741f713aa');\n",
              "          const dataTable =\n",
              "            await google.colab.kernel.invokeFunction('convertToInteractive',\n",
              "                                                     [key], {});\n",
              "          if (!dataTable) return;\n",
              "\n",
              "          const docLinkHtml = 'Like what you see? Visit the ' +\n",
              "            '<a target=\"_blank\" href=https://colab.research.google.com/notebooks/data_table.ipynb>data table notebook</a>'\n",
              "            + ' to learn more about interactive tables.';\n",
              "          element.innerHTML = '';\n",
              "          dataTable['output_type'] = 'display_data';\n",
              "          await google.colab.output.renderOutput(dataTable, element);\n",
              "          const docLink = document.createElement('div');\n",
              "          docLink.innerHTML = docLinkHtml;\n",
              "          element.appendChild(docLink);\n",
              "        }\n",
              "      </script>\n",
              "    </div>\n",
              "  </div>\n",
              "  "
            ]
          },
          "metadata": {},
          "execution_count": 47
        }
      ]
    },
    {
      "cell_type": "code",
      "source": [
        "df.describe()"
      ],
      "metadata": {
        "colab": {
          "base_uri": "https://localhost:8080/",
          "height": 364
        },
        "id": "TXG4i8gCwSGQ",
        "outputId": "1b0b3357-4747-4d6e-a38c-8bb4e425303b"
      },
      "execution_count": null,
      "outputs": [
        {
          "output_type": "execute_result",
          "data": {
            "text/plain": [
              "             CO_GT   PT08_S1_CO      NMHC_GT      C6H6_GT  PT08_S2_NMHC  \\\n",
              "count  9357.000000  9357.000000  9357.000000  9357.000000   9357.000000   \n",
              "mean    -34.207524  1048.990061  -159.090093     1.865683    894.595276   \n",
              "std      77.657170   329.832710   139.789093    41.380206    342.333252   \n",
              "min    -200.000000  -200.000000  -200.000000  -200.000000   -200.000000   \n",
              "25%       0.600000   921.000000  -200.000000     4.000000    711.000000   \n",
              "50%       1.500000  1053.000000  -200.000000     7.900000    895.000000   \n",
              "75%       2.600000  1221.000000  -200.000000    13.600000   1105.000000   \n",
              "max      11.900000  2040.000000  1189.000000    63.700000   2214.000000   \n",
              "\n",
              "            Nox_GT  PT08_S3_Nox       NO2_GT  PT08_S4_NO2   PT08_S5_O3  \\\n",
              "count  9357.000000  9357.000000  9357.000000  9357.000000  9357.000000   \n",
              "mean    168.616971   794.990168    58.148873  1391.479641   975.072032   \n",
              "std     257.433866   321.993552   126.940455   467.210125   456.938184   \n",
              "min    -200.000000  -200.000000  -200.000000  -200.000000  -200.000000   \n",
              "25%      50.000000   637.000000    53.000000  1185.000000   700.000000   \n",
              "50%     141.000000   794.000000    96.000000  1446.000000   942.000000   \n",
              "75%     284.000000   960.000000   133.000000  1662.000000  1255.000000   \n",
              "max    1479.000000  2683.000000   340.000000  2775.000000  2523.000000   \n",
              "\n",
              "                 T           RH           AH  \n",
              "count  9357.000000  9357.000000  9357.000000  \n",
              "mean      9.778305    39.485380    -6.837604  \n",
              "std      43.203623    51.216145    38.976670  \n",
              "min    -200.000000  -200.000000  -200.000000  \n",
              "25%      10.900000    34.100000     0.692300  \n",
              "50%      17.200000    48.600000     0.976800  \n",
              "75%      24.100000    61.900000     1.296200  \n",
              "max      44.600000    88.700000     2.231000  "
            ],
            "text/html": [
              "\n",
              "  <div id=\"df-d635dbeb-f933-4ec0-b9df-4400c634744b\">\n",
              "    <div class=\"colab-df-container\">\n",
              "      <div>\n",
              "<style scoped>\n",
              "    .dataframe tbody tr th:only-of-type {\n",
              "        vertical-align: middle;\n",
              "    }\n",
              "\n",
              "    .dataframe tbody tr th {\n",
              "        vertical-align: top;\n",
              "    }\n",
              "\n",
              "    .dataframe thead th {\n",
              "        text-align: right;\n",
              "    }\n",
              "</style>\n",
              "<table border=\"1\" class=\"dataframe\">\n",
              "  <thead>\n",
              "    <tr style=\"text-align: right;\">\n",
              "      <th></th>\n",
              "      <th>CO_GT</th>\n",
              "      <th>PT08_S1_CO</th>\n",
              "      <th>NMHC_GT</th>\n",
              "      <th>C6H6_GT</th>\n",
              "      <th>PT08_S2_NMHC</th>\n",
              "      <th>Nox_GT</th>\n",
              "      <th>PT08_S3_Nox</th>\n",
              "      <th>NO2_GT</th>\n",
              "      <th>PT08_S4_NO2</th>\n",
              "      <th>PT08_S5_O3</th>\n",
              "      <th>T</th>\n",
              "      <th>RH</th>\n",
              "      <th>AH</th>\n",
              "    </tr>\n",
              "  </thead>\n",
              "  <tbody>\n",
              "    <tr>\n",
              "      <th>count</th>\n",
              "      <td>9357.000000</td>\n",
              "      <td>9357.000000</td>\n",
              "      <td>9357.000000</td>\n",
              "      <td>9357.000000</td>\n",
              "      <td>9357.000000</td>\n",
              "      <td>9357.000000</td>\n",
              "      <td>9357.000000</td>\n",
              "      <td>9357.000000</td>\n",
              "      <td>9357.000000</td>\n",
              "      <td>9357.000000</td>\n",
              "      <td>9357.000000</td>\n",
              "      <td>9357.000000</td>\n",
              "      <td>9357.000000</td>\n",
              "    </tr>\n",
              "    <tr>\n",
              "      <th>mean</th>\n",
              "      <td>-34.207524</td>\n",
              "      <td>1048.990061</td>\n",
              "      <td>-159.090093</td>\n",
              "      <td>1.865683</td>\n",
              "      <td>894.595276</td>\n",
              "      <td>168.616971</td>\n",
              "      <td>794.990168</td>\n",
              "      <td>58.148873</td>\n",
              "      <td>1391.479641</td>\n",
              "      <td>975.072032</td>\n",
              "      <td>9.778305</td>\n",
              "      <td>39.485380</td>\n",
              "      <td>-6.837604</td>\n",
              "    </tr>\n",
              "    <tr>\n",
              "      <th>std</th>\n",
              "      <td>77.657170</td>\n",
              "      <td>329.832710</td>\n",
              "      <td>139.789093</td>\n",
              "      <td>41.380206</td>\n",
              "      <td>342.333252</td>\n",
              "      <td>257.433866</td>\n",
              "      <td>321.993552</td>\n",
              "      <td>126.940455</td>\n",
              "      <td>467.210125</td>\n",
              "      <td>456.938184</td>\n",
              "      <td>43.203623</td>\n",
              "      <td>51.216145</td>\n",
              "      <td>38.976670</td>\n",
              "    </tr>\n",
              "    <tr>\n",
              "      <th>min</th>\n",
              "      <td>-200.000000</td>\n",
              "      <td>-200.000000</td>\n",
              "      <td>-200.000000</td>\n",
              "      <td>-200.000000</td>\n",
              "      <td>-200.000000</td>\n",
              "      <td>-200.000000</td>\n",
              "      <td>-200.000000</td>\n",
              "      <td>-200.000000</td>\n",
              "      <td>-200.000000</td>\n",
              "      <td>-200.000000</td>\n",
              "      <td>-200.000000</td>\n",
              "      <td>-200.000000</td>\n",
              "      <td>-200.000000</td>\n",
              "    </tr>\n",
              "    <tr>\n",
              "      <th>25%</th>\n",
              "      <td>0.600000</td>\n",
              "      <td>921.000000</td>\n",
              "      <td>-200.000000</td>\n",
              "      <td>4.000000</td>\n",
              "      <td>711.000000</td>\n",
              "      <td>50.000000</td>\n",
              "      <td>637.000000</td>\n",
              "      <td>53.000000</td>\n",
              "      <td>1185.000000</td>\n",
              "      <td>700.000000</td>\n",
              "      <td>10.900000</td>\n",
              "      <td>34.100000</td>\n",
              "      <td>0.692300</td>\n",
              "    </tr>\n",
              "    <tr>\n",
              "      <th>50%</th>\n",
              "      <td>1.500000</td>\n",
              "      <td>1053.000000</td>\n",
              "      <td>-200.000000</td>\n",
              "      <td>7.900000</td>\n",
              "      <td>895.000000</td>\n",
              "      <td>141.000000</td>\n",
              "      <td>794.000000</td>\n",
              "      <td>96.000000</td>\n",
              "      <td>1446.000000</td>\n",
              "      <td>942.000000</td>\n",
              "      <td>17.200000</td>\n",
              "      <td>48.600000</td>\n",
              "      <td>0.976800</td>\n",
              "    </tr>\n",
              "    <tr>\n",
              "      <th>75%</th>\n",
              "      <td>2.600000</td>\n",
              "      <td>1221.000000</td>\n",
              "      <td>-200.000000</td>\n",
              "      <td>13.600000</td>\n",
              "      <td>1105.000000</td>\n",
              "      <td>284.000000</td>\n",
              "      <td>960.000000</td>\n",
              "      <td>133.000000</td>\n",
              "      <td>1662.000000</td>\n",
              "      <td>1255.000000</td>\n",
              "      <td>24.100000</td>\n",
              "      <td>61.900000</td>\n",
              "      <td>1.296200</td>\n",
              "    </tr>\n",
              "    <tr>\n",
              "      <th>max</th>\n",
              "      <td>11.900000</td>\n",
              "      <td>2040.000000</td>\n",
              "      <td>1189.000000</td>\n",
              "      <td>63.700000</td>\n",
              "      <td>2214.000000</td>\n",
              "      <td>1479.000000</td>\n",
              "      <td>2683.000000</td>\n",
              "      <td>340.000000</td>\n",
              "      <td>2775.000000</td>\n",
              "      <td>2523.000000</td>\n",
              "      <td>44.600000</td>\n",
              "      <td>88.700000</td>\n",
              "      <td>2.231000</td>\n",
              "    </tr>\n",
              "  </tbody>\n",
              "</table>\n",
              "</div>\n",
              "      <button class=\"colab-df-convert\" onclick=\"convertToInteractive('df-d635dbeb-f933-4ec0-b9df-4400c634744b')\"\n",
              "              title=\"Convert this dataframe to an interactive table.\"\n",
              "              style=\"display:none;\">\n",
              "        \n",
              "  <svg xmlns=\"http://www.w3.org/2000/svg\" height=\"24px\"viewBox=\"0 0 24 24\"\n",
              "       width=\"24px\">\n",
              "    <path d=\"M0 0h24v24H0V0z\" fill=\"none\"/>\n",
              "    <path d=\"M18.56 5.44l.94 2.06.94-2.06 2.06-.94-2.06-.94-.94-2.06-.94 2.06-2.06.94zm-11 1L8.5 8.5l.94-2.06 2.06-.94-2.06-.94L8.5 2.5l-.94 2.06-2.06.94zm10 10l.94 2.06.94-2.06 2.06-.94-2.06-.94-.94-2.06-.94 2.06-2.06.94z\"/><path d=\"M17.41 7.96l-1.37-1.37c-.4-.4-.92-.59-1.43-.59-.52 0-1.04.2-1.43.59L10.3 9.45l-7.72 7.72c-.78.78-.78 2.05 0 2.83L4 21.41c.39.39.9.59 1.41.59.51 0 1.02-.2 1.41-.59l7.78-7.78 2.81-2.81c.8-.78.8-2.07 0-2.86zM5.41 20L4 18.59l7.72-7.72 1.47 1.35L5.41 20z\"/>\n",
              "  </svg>\n",
              "      </button>\n",
              "      \n",
              "  <style>\n",
              "    .colab-df-container {\n",
              "      display:flex;\n",
              "      flex-wrap:wrap;\n",
              "      gap: 12px;\n",
              "    }\n",
              "\n",
              "    .colab-df-convert {\n",
              "      background-color: #E8F0FE;\n",
              "      border: none;\n",
              "      border-radius: 50%;\n",
              "      cursor: pointer;\n",
              "      display: none;\n",
              "      fill: #1967D2;\n",
              "      height: 32px;\n",
              "      padding: 0 0 0 0;\n",
              "      width: 32px;\n",
              "    }\n",
              "\n",
              "    .colab-df-convert:hover {\n",
              "      background-color: #E2EBFA;\n",
              "      box-shadow: 0px 1px 2px rgba(60, 64, 67, 0.3), 0px 1px 3px 1px rgba(60, 64, 67, 0.15);\n",
              "      fill: #174EA6;\n",
              "    }\n",
              "\n",
              "    [theme=dark] .colab-df-convert {\n",
              "      background-color: #3B4455;\n",
              "      fill: #D2E3FC;\n",
              "    }\n",
              "\n",
              "    [theme=dark] .colab-df-convert:hover {\n",
              "      background-color: #434B5C;\n",
              "      box-shadow: 0px 1px 3px 1px rgba(0, 0, 0, 0.15);\n",
              "      filter: drop-shadow(0px 1px 2px rgba(0, 0, 0, 0.3));\n",
              "      fill: #FFFFFF;\n",
              "    }\n",
              "  </style>\n",
              "\n",
              "      <script>\n",
              "        const buttonEl =\n",
              "          document.querySelector('#df-d635dbeb-f933-4ec0-b9df-4400c634744b button.colab-df-convert');\n",
              "        buttonEl.style.display =\n",
              "          google.colab.kernel.accessAllowed ? 'block' : 'none';\n",
              "\n",
              "        async function convertToInteractive(key) {\n",
              "          const element = document.querySelector('#df-d635dbeb-f933-4ec0-b9df-4400c634744b');\n",
              "          const dataTable =\n",
              "            await google.colab.kernel.invokeFunction('convertToInteractive',\n",
              "                                                     [key], {});\n",
              "          if (!dataTable) return;\n",
              "\n",
              "          const docLinkHtml = 'Like what you see? Visit the ' +\n",
              "            '<a target=\"_blank\" href=https://colab.research.google.com/notebooks/data_table.ipynb>data table notebook</a>'\n",
              "            + ' to learn more about interactive tables.';\n",
              "          element.innerHTML = '';\n",
              "          dataTable['output_type'] = 'display_data';\n",
              "          await google.colab.output.renderOutput(dataTable, element);\n",
              "          const docLink = document.createElement('div');\n",
              "          docLink.innerHTML = docLinkHtml;\n",
              "          element.appendChild(docLink);\n",
              "        }\n",
              "      </script>\n",
              "    </div>\n",
              "  </div>\n",
              "  "
            ]
          },
          "metadata": {},
          "execution_count": 48
        }
      ]
    },
    {
      "cell_type": "code",
      "source": [
        "df.info()"
      ],
      "metadata": {
        "colab": {
          "base_uri": "https://localhost:8080/"
        },
        "id": "zICep4dzxd0c",
        "outputId": "95213a45-bb53-4436-c84b-bbf358114a78"
      },
      "execution_count": null,
      "outputs": [
        {
          "output_type": "stream",
          "name": "stdout",
          "text": [
            "<class 'pandas.core.frame.DataFrame'>\n",
            "RangeIndex: 9357 entries, 0 to 9356\n",
            "Data columns (total 15 columns):\n",
            " #   Column        Non-Null Count  Dtype         \n",
            "---  ------        --------------  -----         \n",
            " 0   DateTime      9357 non-null   datetime64[ns]\n",
            " 1   CO_GT         9357 non-null   float64       \n",
            " 2   PT08_S1_CO    9357 non-null   int64         \n",
            " 3   NMHC_GT       9357 non-null   int64         \n",
            " 4   C6H6_GT       9357 non-null   float64       \n",
            " 5   PT08_S2_NMHC  9357 non-null   int64         \n",
            " 6   Nox_GT        9357 non-null   int64         \n",
            " 7   PT08_S3_Nox   9357 non-null   int64         \n",
            " 8   NO2_GT        9357 non-null   int64         \n",
            " 9   PT08_S4_NO2   9357 non-null   int64         \n",
            " 10  PT08_S5_O3    9357 non-null   int64         \n",
            " 11  T             9357 non-null   float64       \n",
            " 12  RH            9357 non-null   float64       \n",
            " 13  AH            9357 non-null   float64       \n",
            " 14  CO_level      9357 non-null   object        \n",
            "dtypes: datetime64[ns](1), float64(5), int64(8), object(1)\n",
            "memory usage: 1.1+ MB\n"
          ]
        }
      ]
    },
    {
      "cell_type": "code",
      "source": [
        "df.shape"
      ],
      "metadata": {
        "colab": {
          "base_uri": "https://localhost:8080/"
        },
        "id": "higYOY-Zxr2q",
        "outputId": "b6e6f2c4-65ad-4b08-95cc-f16956d3eae4"
      },
      "execution_count": null,
      "outputs": [
        {
          "output_type": "execute_result",
          "data": {
            "text/plain": [
              "(9357, 15)"
            ]
          },
          "metadata": {},
          "execution_count": 50
        }
      ]
    },
    {
      "cell_type": "markdown",
      "source": [
        "# **Cleaning the dataset**"
      ],
      "metadata": {
        "id": "DVgzg96ry7Ac"
      }
    },
    {
      "cell_type": "code",
      "source": [
        "df['NMHC_GT'].value_counts()"
      ],
      "metadata": {
        "colab": {
          "base_uri": "https://localhost:8080/"
        },
        "id": "_neu7PKBy-_I",
        "outputId": "0d8cdd08-d1ef-4d9a-e447-fa7fcfa965a4"
      },
      "execution_count": null,
      "outputs": [
        {
          "output_type": "execute_result",
          "data": {
            "text/plain": [
              "-200    8443\n",
              " 66       14\n",
              " 29        9\n",
              " 40        9\n",
              " 93        8\n",
              "        ... \n",
              " 206       1\n",
              " 268       1\n",
              " 320       1\n",
              " 270       1\n",
              " 10        1\n",
              "Name: NMHC_GT, Length: 430, dtype: int64"
            ]
          },
          "metadata": {},
          "execution_count": 51
        }
      ]
    },
    {
      "cell_type": "code",
      "source": [
        "# 8443/9357 trong cột NMHC_GT là: -200. Cột không cần thiết -> drop\n",
        "df.drop('NMHC_GT', axis=1, inplace=True)\n",
        "df.drop('CO_level', axis=1, inplace=True)\n",
        "df = df.drop('DateTime', axis=1)"
      ],
      "metadata": {
        "id": "6a7Hd2EczfJT"
      },
      "execution_count": null,
      "outputs": []
    },
    {
      "cell_type": "code",
      "source": [
        "df.columns"
      ],
      "metadata": {
        "colab": {
          "base_uri": "https://localhost:8080/"
        },
        "id": "yzUtut2y2VPI",
        "outputId": "49286791-a567-48c2-abbc-46c28075c137"
      },
      "execution_count": null,
      "outputs": [
        {
          "output_type": "execute_result",
          "data": {
            "text/plain": [
              "Index(['CO_GT', 'PT08_S1_CO', 'C6H6_GT', 'PT08_S2_NMHC', 'Nox_GT',\n",
              "       'PT08_S3_Nox', 'NO2_GT', 'PT08_S4_NO2', 'PT08_S5_O3', 'T', 'RH', 'AH'],\n",
              "      dtype='object')"
            ]
          },
          "metadata": {},
          "execution_count": 53
        }
      ]
    },
    {
      "cell_type": "code",
      "source": [
        "# Trong tập dữ liệu có rất nhiều giá trị bị thiếu được tác giả gán bằng -200. Thay thế -200 với np.NaN\n",
        "df.replace(to_replace=-200, value=np.NaN, inplace=True)"
      ],
      "metadata": {
        "id": "BfyGmuSR0b85"
      },
      "execution_count": null,
      "outputs": []
    },
    {
      "cell_type": "code",
      "source": [
        "df.isin([-200]).sum()"
      ],
      "metadata": {
        "colab": {
          "base_uri": "https://localhost:8080/"
        },
        "id": "ZJZpqemR23cS",
        "outputId": "ec2f6d24-526b-4bd6-8e90-84ee7e6fa5fb"
      },
      "execution_count": null,
      "outputs": [
        {
          "output_type": "execute_result",
          "data": {
            "text/plain": [
              "CO_GT           0\n",
              "PT08_S1_CO      0\n",
              "C6H6_GT         0\n",
              "PT08_S2_NMHC    0\n",
              "Nox_GT          0\n",
              "PT08_S3_Nox     0\n",
              "NO2_GT          0\n",
              "PT08_S4_NO2     0\n",
              "PT08_S5_O3      0\n",
              "T               0\n",
              "RH              0\n",
              "AH              0\n",
              "dtype: int64"
            ]
          },
          "metadata": {},
          "execution_count": 55
        }
      ]
    },
    {
      "cell_type": "code",
      "source": [
        "df"
      ],
      "metadata": {
        "colab": {
          "base_uri": "https://localhost:8080/",
          "height": 424
        },
        "id": "bvyEmga7At2B",
        "outputId": "d6391a3e-1a6a-475a-ea8c-6d94a995fb3c"
      },
      "execution_count": null,
      "outputs": [
        {
          "output_type": "execute_result",
          "data": {
            "text/plain": [
              "      CO_GT  PT08_S1_CO  C6H6_GT  PT08_S2_NMHC  Nox_GT  PT08_S3_Nox  NO2_GT  \\\n",
              "0      11.9      2008.0     50.6        1980.0  1389.0        325.0   220.0   \n",
              "1      11.5      1918.0     49.4        1958.0  1358.0        335.0   190.0   \n",
              "2      10.2      1802.0     47.7        1924.0   748.0        356.0   192.0   \n",
              "3      10.2      1982.0     49.5        1959.0  1369.0        322.0   227.0   \n",
              "4      10.1      1956.0     45.2        1877.0  1389.0        347.0   255.0   \n",
              "...     ...         ...      ...           ...     ...          ...     ...   \n",
              "9352    NaN       993.0      2.3         604.0    85.0        848.0    65.0   \n",
              "9353    NaN      1122.0      6.0         811.0   181.0        641.0    92.0   \n",
              "9354    NaN       883.0      1.3         530.0    63.0        997.0    46.0   \n",
              "9355    NaN       818.0      0.8         473.0    47.0       1257.0    41.0   \n",
              "9356    NaN       864.0      0.8         478.0    52.0       1116.0    43.0   \n",
              "\n",
              "      PT08_S4_NO2  PT08_S5_O3     T    RH      AH  \n",
              "0          2562.0      2342.0  12.4  74.7  1.0741  \n",
              "1          2477.0      2237.0  11.5  76.2  1.0324  \n",
              "2          2235.0      2452.0  13.7  52.8  0.8244  \n",
              "3          2536.0      2386.0  13.2  72.6  1.0936  \n",
              "4          2338.0      2465.0  15.5  62.8  1.0979  \n",
              "...           ...         ...   ...   ...     ...  \n",
              "9352       1160.0       762.0  14.5  66.4  1.0919  \n",
              "9353       1336.0      1122.0  16.2  71.2  1.3013  \n",
              "9354       1102.0       617.0  13.7  68.2  1.0611  \n",
              "9355        898.0       323.0  13.7  48.8  0.7606  \n",
              "9356        958.0       489.0  11.8  56.0  0.7743  \n",
              "\n",
              "[9357 rows x 12 columns]"
            ],
            "text/html": [
              "\n",
              "  <div id=\"df-044d9b1b-7af7-4510-bc18-49ac7987d976\">\n",
              "    <div class=\"colab-df-container\">\n",
              "      <div>\n",
              "<style scoped>\n",
              "    .dataframe tbody tr th:only-of-type {\n",
              "        vertical-align: middle;\n",
              "    }\n",
              "\n",
              "    .dataframe tbody tr th {\n",
              "        vertical-align: top;\n",
              "    }\n",
              "\n",
              "    .dataframe thead th {\n",
              "        text-align: right;\n",
              "    }\n",
              "</style>\n",
              "<table border=\"1\" class=\"dataframe\">\n",
              "  <thead>\n",
              "    <tr style=\"text-align: right;\">\n",
              "      <th></th>\n",
              "      <th>CO_GT</th>\n",
              "      <th>PT08_S1_CO</th>\n",
              "      <th>C6H6_GT</th>\n",
              "      <th>PT08_S2_NMHC</th>\n",
              "      <th>Nox_GT</th>\n",
              "      <th>PT08_S3_Nox</th>\n",
              "      <th>NO2_GT</th>\n",
              "      <th>PT08_S4_NO2</th>\n",
              "      <th>PT08_S5_O3</th>\n",
              "      <th>T</th>\n",
              "      <th>RH</th>\n",
              "      <th>AH</th>\n",
              "    </tr>\n",
              "  </thead>\n",
              "  <tbody>\n",
              "    <tr>\n",
              "      <th>0</th>\n",
              "      <td>11.9</td>\n",
              "      <td>2008.0</td>\n",
              "      <td>50.6</td>\n",
              "      <td>1980.0</td>\n",
              "      <td>1389.0</td>\n",
              "      <td>325.0</td>\n",
              "      <td>220.0</td>\n",
              "      <td>2562.0</td>\n",
              "      <td>2342.0</td>\n",
              "      <td>12.4</td>\n",
              "      <td>74.7</td>\n",
              "      <td>1.0741</td>\n",
              "    </tr>\n",
              "    <tr>\n",
              "      <th>1</th>\n",
              "      <td>11.5</td>\n",
              "      <td>1918.0</td>\n",
              "      <td>49.4</td>\n",
              "      <td>1958.0</td>\n",
              "      <td>1358.0</td>\n",
              "      <td>335.0</td>\n",
              "      <td>190.0</td>\n",
              "      <td>2477.0</td>\n",
              "      <td>2237.0</td>\n",
              "      <td>11.5</td>\n",
              "      <td>76.2</td>\n",
              "      <td>1.0324</td>\n",
              "    </tr>\n",
              "    <tr>\n",
              "      <th>2</th>\n",
              "      <td>10.2</td>\n",
              "      <td>1802.0</td>\n",
              "      <td>47.7</td>\n",
              "      <td>1924.0</td>\n",
              "      <td>748.0</td>\n",
              "      <td>356.0</td>\n",
              "      <td>192.0</td>\n",
              "      <td>2235.0</td>\n",
              "      <td>2452.0</td>\n",
              "      <td>13.7</td>\n",
              "      <td>52.8</td>\n",
              "      <td>0.8244</td>\n",
              "    </tr>\n",
              "    <tr>\n",
              "      <th>3</th>\n",
              "      <td>10.2</td>\n",
              "      <td>1982.0</td>\n",
              "      <td>49.5</td>\n",
              "      <td>1959.0</td>\n",
              "      <td>1369.0</td>\n",
              "      <td>322.0</td>\n",
              "      <td>227.0</td>\n",
              "      <td>2536.0</td>\n",
              "      <td>2386.0</td>\n",
              "      <td>13.2</td>\n",
              "      <td>72.6</td>\n",
              "      <td>1.0936</td>\n",
              "    </tr>\n",
              "    <tr>\n",
              "      <th>4</th>\n",
              "      <td>10.1</td>\n",
              "      <td>1956.0</td>\n",
              "      <td>45.2</td>\n",
              "      <td>1877.0</td>\n",
              "      <td>1389.0</td>\n",
              "      <td>347.0</td>\n",
              "      <td>255.0</td>\n",
              "      <td>2338.0</td>\n",
              "      <td>2465.0</td>\n",
              "      <td>15.5</td>\n",
              "      <td>62.8</td>\n",
              "      <td>1.0979</td>\n",
              "    </tr>\n",
              "    <tr>\n",
              "      <th>...</th>\n",
              "      <td>...</td>\n",
              "      <td>...</td>\n",
              "      <td>...</td>\n",
              "      <td>...</td>\n",
              "      <td>...</td>\n",
              "      <td>...</td>\n",
              "      <td>...</td>\n",
              "      <td>...</td>\n",
              "      <td>...</td>\n",
              "      <td>...</td>\n",
              "      <td>...</td>\n",
              "      <td>...</td>\n",
              "    </tr>\n",
              "    <tr>\n",
              "      <th>9352</th>\n",
              "      <td>NaN</td>\n",
              "      <td>993.0</td>\n",
              "      <td>2.3</td>\n",
              "      <td>604.0</td>\n",
              "      <td>85.0</td>\n",
              "      <td>848.0</td>\n",
              "      <td>65.0</td>\n",
              "      <td>1160.0</td>\n",
              "      <td>762.0</td>\n",
              "      <td>14.5</td>\n",
              "      <td>66.4</td>\n",
              "      <td>1.0919</td>\n",
              "    </tr>\n",
              "    <tr>\n",
              "      <th>9353</th>\n",
              "      <td>NaN</td>\n",
              "      <td>1122.0</td>\n",
              "      <td>6.0</td>\n",
              "      <td>811.0</td>\n",
              "      <td>181.0</td>\n",
              "      <td>641.0</td>\n",
              "      <td>92.0</td>\n",
              "      <td>1336.0</td>\n",
              "      <td>1122.0</td>\n",
              "      <td>16.2</td>\n",
              "      <td>71.2</td>\n",
              "      <td>1.3013</td>\n",
              "    </tr>\n",
              "    <tr>\n",
              "      <th>9354</th>\n",
              "      <td>NaN</td>\n",
              "      <td>883.0</td>\n",
              "      <td>1.3</td>\n",
              "      <td>530.0</td>\n",
              "      <td>63.0</td>\n",
              "      <td>997.0</td>\n",
              "      <td>46.0</td>\n",
              "      <td>1102.0</td>\n",
              "      <td>617.0</td>\n",
              "      <td>13.7</td>\n",
              "      <td>68.2</td>\n",
              "      <td>1.0611</td>\n",
              "    </tr>\n",
              "    <tr>\n",
              "      <th>9355</th>\n",
              "      <td>NaN</td>\n",
              "      <td>818.0</td>\n",
              "      <td>0.8</td>\n",
              "      <td>473.0</td>\n",
              "      <td>47.0</td>\n",
              "      <td>1257.0</td>\n",
              "      <td>41.0</td>\n",
              "      <td>898.0</td>\n",
              "      <td>323.0</td>\n",
              "      <td>13.7</td>\n",
              "      <td>48.8</td>\n",
              "      <td>0.7606</td>\n",
              "    </tr>\n",
              "    <tr>\n",
              "      <th>9356</th>\n",
              "      <td>NaN</td>\n",
              "      <td>864.0</td>\n",
              "      <td>0.8</td>\n",
              "      <td>478.0</td>\n",
              "      <td>52.0</td>\n",
              "      <td>1116.0</td>\n",
              "      <td>43.0</td>\n",
              "      <td>958.0</td>\n",
              "      <td>489.0</td>\n",
              "      <td>11.8</td>\n",
              "      <td>56.0</td>\n",
              "      <td>0.7743</td>\n",
              "    </tr>\n",
              "  </tbody>\n",
              "</table>\n",
              "<p>9357 rows × 12 columns</p>\n",
              "</div>\n",
              "      <button class=\"colab-df-convert\" onclick=\"convertToInteractive('df-044d9b1b-7af7-4510-bc18-49ac7987d976')\"\n",
              "              title=\"Convert this dataframe to an interactive table.\"\n",
              "              style=\"display:none;\">\n",
              "        \n",
              "  <svg xmlns=\"http://www.w3.org/2000/svg\" height=\"24px\"viewBox=\"0 0 24 24\"\n",
              "       width=\"24px\">\n",
              "    <path d=\"M0 0h24v24H0V0z\" fill=\"none\"/>\n",
              "    <path d=\"M18.56 5.44l.94 2.06.94-2.06 2.06-.94-2.06-.94-.94-2.06-.94 2.06-2.06.94zm-11 1L8.5 8.5l.94-2.06 2.06-.94-2.06-.94L8.5 2.5l-.94 2.06-2.06.94zm10 10l.94 2.06.94-2.06 2.06-.94-2.06-.94-.94-2.06-.94 2.06-2.06.94z\"/><path d=\"M17.41 7.96l-1.37-1.37c-.4-.4-.92-.59-1.43-.59-.52 0-1.04.2-1.43.59L10.3 9.45l-7.72 7.72c-.78.78-.78 2.05 0 2.83L4 21.41c.39.39.9.59 1.41.59.51 0 1.02-.2 1.41-.59l7.78-7.78 2.81-2.81c.8-.78.8-2.07 0-2.86zM5.41 20L4 18.59l7.72-7.72 1.47 1.35L5.41 20z\"/>\n",
              "  </svg>\n",
              "      </button>\n",
              "      \n",
              "  <style>\n",
              "    .colab-df-container {\n",
              "      display:flex;\n",
              "      flex-wrap:wrap;\n",
              "      gap: 12px;\n",
              "    }\n",
              "\n",
              "    .colab-df-convert {\n",
              "      background-color: #E8F0FE;\n",
              "      border: none;\n",
              "      border-radius: 50%;\n",
              "      cursor: pointer;\n",
              "      display: none;\n",
              "      fill: #1967D2;\n",
              "      height: 32px;\n",
              "      padding: 0 0 0 0;\n",
              "      width: 32px;\n",
              "    }\n",
              "\n",
              "    .colab-df-convert:hover {\n",
              "      background-color: #E2EBFA;\n",
              "      box-shadow: 0px 1px 2px rgba(60, 64, 67, 0.3), 0px 1px 3px 1px rgba(60, 64, 67, 0.15);\n",
              "      fill: #174EA6;\n",
              "    }\n",
              "\n",
              "    [theme=dark] .colab-df-convert {\n",
              "      background-color: #3B4455;\n",
              "      fill: #D2E3FC;\n",
              "    }\n",
              "\n",
              "    [theme=dark] .colab-df-convert:hover {\n",
              "      background-color: #434B5C;\n",
              "      box-shadow: 0px 1px 3px 1px rgba(0, 0, 0, 0.15);\n",
              "      filter: drop-shadow(0px 1px 2px rgba(0, 0, 0, 0.3));\n",
              "      fill: #FFFFFF;\n",
              "    }\n",
              "  </style>\n",
              "\n",
              "      <script>\n",
              "        const buttonEl =\n",
              "          document.querySelector('#df-044d9b1b-7af7-4510-bc18-49ac7987d976 button.colab-df-convert');\n",
              "        buttonEl.style.display =\n",
              "          google.colab.kernel.accessAllowed ? 'block' : 'none';\n",
              "\n",
              "        async function convertToInteractive(key) {\n",
              "          const element = document.querySelector('#df-044d9b1b-7af7-4510-bc18-49ac7987d976');\n",
              "          const dataTable =\n",
              "            await google.colab.kernel.invokeFunction('convertToInteractive',\n",
              "                                                     [key], {});\n",
              "          if (!dataTable) return;\n",
              "\n",
              "          const docLinkHtml = 'Like what you see? Visit the ' +\n",
              "            '<a target=\"_blank\" href=https://colab.research.google.com/notebooks/data_table.ipynb>data table notebook</a>'\n",
              "            + ' to learn more about interactive tables.';\n",
              "          element.innerHTML = '';\n",
              "          dataTable['output_type'] = 'display_data';\n",
              "          await google.colab.output.renderOutput(dataTable, element);\n",
              "          const docLink = document.createElement('div');\n",
              "          docLink.innerHTML = docLinkHtml;\n",
              "          element.appendChild(docLink);\n",
              "        }\n",
              "      </script>\n",
              "    </div>\n",
              "  </div>\n",
              "  "
            ]
          },
          "metadata": {},
          "execution_count": 56
        }
      ]
    },
    {
      "cell_type": "code",
      "source": [
        "# Sử dụng fillna để thay thế các giá trị bị missing với giá trị trung bình\n",
        "col_list = df.columns[0:13]\n",
        "for i in col_list:\n",
        "  df[i] = df[i].fillna(df[i].mean())"
      ],
      "metadata": {
        "id": "XMAg5TDF9wTH"
      },
      "execution_count": null,
      "outputs": []
    },
    {
      "cell_type": "code",
      "source": [
        "# Kiểm tra lại còn giá trị bị Null không\n",
        "df.isnull().sum()"
      ],
      "metadata": {
        "colab": {
          "base_uri": "https://localhost:8080/"
        },
        "id": "SZCC4mtI_pDV",
        "outputId": "4106b6f5-8d8c-4e7b-bb3e-57c4c7fa6e14"
      },
      "execution_count": null,
      "outputs": [
        {
          "output_type": "execute_result",
          "data": {
            "text/plain": [
              "CO_GT           0\n",
              "PT08_S1_CO      0\n",
              "C6H6_GT         0\n",
              "PT08_S2_NMHC    0\n",
              "Nox_GT          0\n",
              "PT08_S3_Nox     0\n",
              "NO2_GT          0\n",
              "PT08_S4_NO2     0\n",
              "PT08_S5_O3      0\n",
              "T               0\n",
              "RH              0\n",
              "AH              0\n",
              "dtype: int64"
            ]
          },
          "metadata": {},
          "execution_count": 58
        }
      ]
    },
    {
      "cell_type": "code",
      "source": [
        "# Review lại dữ liệu \n",
        "df.describe()"
      ],
      "metadata": {
        "colab": {
          "base_uri": "https://localhost:8080/",
          "height": 364
        },
        "id": "xVPVkoDmBzAt",
        "outputId": "ea9b6373-abd8-4c67-dce1-8075258481a0"
      },
      "execution_count": null,
      "outputs": [
        {
          "output_type": "execute_result",
          "data": {
            "text/plain": [
              "             CO_GT   PT08_S1_CO      C6H6_GT  PT08_S2_NMHC       Nox_GT  \\\n",
              "count  9357.000000  9357.000000  9357.000000   9357.000000  9357.000000   \n",
              "mean      2.152750  1099.833166    10.083105    939.153376   246.896735   \n",
              "std       1.316068   212.791672     7.302650    261.560236   193.426632   \n",
              "min       0.100000   647.000000     0.100000    383.000000     2.000000   \n",
              "25%       1.200000   941.000000     4.600000    743.000000   112.000000   \n",
              "50%       2.152750  1075.000000     8.600000    923.000000   229.000000   \n",
              "75%       2.600000  1221.000000    13.600000   1105.000000   284.000000   \n",
              "max      11.900000  2040.000000    63.700000   2214.000000  1479.000000   \n",
              "\n",
              "       PT08_S3_Nox       NO2_GT  PT08_S4_NO2   PT08_S5_O3            T  \\\n",
              "count  9357.000000  9357.000000  9357.000000  9357.000000  9357.000000   \n",
              "mean    835.493605   113.091251  1456.264598  1022.906128    18.317829   \n",
              "std     251.743954    43.920954   339.367559   390.612324     8.657639   \n",
              "min     322.000000     2.000000   551.000000   221.000000    -1.900000   \n",
              "25%     666.000000    86.000000  1242.000000   742.000000    12.000000   \n",
              "50%     818.000000   113.091251  1456.264598   983.000000    18.300000   \n",
              "75%     960.000000   133.000000  1662.000000  1255.000000    24.100000   \n",
              "max    2683.000000   340.000000  2775.000000  2523.000000    44.600000   \n",
              "\n",
              "                RH           AH  \n",
              "count  9357.000000  9357.000000  \n",
              "mean     49.234201     1.025530  \n",
              "std      16.974801     0.395835  \n",
              "min       9.200000     0.184700  \n",
              "25%      36.600000     0.746100  \n",
              "50%      49.234201     1.015400  \n",
              "75%      61.900000     1.296200  \n",
              "max      88.700000     2.231000  "
            ],
            "text/html": [
              "\n",
              "  <div id=\"df-f1b886dd-062e-43d3-9a5e-ef04f2aa41a1\">\n",
              "    <div class=\"colab-df-container\">\n",
              "      <div>\n",
              "<style scoped>\n",
              "    .dataframe tbody tr th:only-of-type {\n",
              "        vertical-align: middle;\n",
              "    }\n",
              "\n",
              "    .dataframe tbody tr th {\n",
              "        vertical-align: top;\n",
              "    }\n",
              "\n",
              "    .dataframe thead th {\n",
              "        text-align: right;\n",
              "    }\n",
              "</style>\n",
              "<table border=\"1\" class=\"dataframe\">\n",
              "  <thead>\n",
              "    <tr style=\"text-align: right;\">\n",
              "      <th></th>\n",
              "      <th>CO_GT</th>\n",
              "      <th>PT08_S1_CO</th>\n",
              "      <th>C6H6_GT</th>\n",
              "      <th>PT08_S2_NMHC</th>\n",
              "      <th>Nox_GT</th>\n",
              "      <th>PT08_S3_Nox</th>\n",
              "      <th>NO2_GT</th>\n",
              "      <th>PT08_S4_NO2</th>\n",
              "      <th>PT08_S5_O3</th>\n",
              "      <th>T</th>\n",
              "      <th>RH</th>\n",
              "      <th>AH</th>\n",
              "    </tr>\n",
              "  </thead>\n",
              "  <tbody>\n",
              "    <tr>\n",
              "      <th>count</th>\n",
              "      <td>9357.000000</td>\n",
              "      <td>9357.000000</td>\n",
              "      <td>9357.000000</td>\n",
              "      <td>9357.000000</td>\n",
              "      <td>9357.000000</td>\n",
              "      <td>9357.000000</td>\n",
              "      <td>9357.000000</td>\n",
              "      <td>9357.000000</td>\n",
              "      <td>9357.000000</td>\n",
              "      <td>9357.000000</td>\n",
              "      <td>9357.000000</td>\n",
              "      <td>9357.000000</td>\n",
              "    </tr>\n",
              "    <tr>\n",
              "      <th>mean</th>\n",
              "      <td>2.152750</td>\n",
              "      <td>1099.833166</td>\n",
              "      <td>10.083105</td>\n",
              "      <td>939.153376</td>\n",
              "      <td>246.896735</td>\n",
              "      <td>835.493605</td>\n",
              "      <td>113.091251</td>\n",
              "      <td>1456.264598</td>\n",
              "      <td>1022.906128</td>\n",
              "      <td>18.317829</td>\n",
              "      <td>49.234201</td>\n",
              "      <td>1.025530</td>\n",
              "    </tr>\n",
              "    <tr>\n",
              "      <th>std</th>\n",
              "      <td>1.316068</td>\n",
              "      <td>212.791672</td>\n",
              "      <td>7.302650</td>\n",
              "      <td>261.560236</td>\n",
              "      <td>193.426632</td>\n",
              "      <td>251.743954</td>\n",
              "      <td>43.920954</td>\n",
              "      <td>339.367559</td>\n",
              "      <td>390.612324</td>\n",
              "      <td>8.657639</td>\n",
              "      <td>16.974801</td>\n",
              "      <td>0.395835</td>\n",
              "    </tr>\n",
              "    <tr>\n",
              "      <th>min</th>\n",
              "      <td>0.100000</td>\n",
              "      <td>647.000000</td>\n",
              "      <td>0.100000</td>\n",
              "      <td>383.000000</td>\n",
              "      <td>2.000000</td>\n",
              "      <td>322.000000</td>\n",
              "      <td>2.000000</td>\n",
              "      <td>551.000000</td>\n",
              "      <td>221.000000</td>\n",
              "      <td>-1.900000</td>\n",
              "      <td>9.200000</td>\n",
              "      <td>0.184700</td>\n",
              "    </tr>\n",
              "    <tr>\n",
              "      <th>25%</th>\n",
              "      <td>1.200000</td>\n",
              "      <td>941.000000</td>\n",
              "      <td>4.600000</td>\n",
              "      <td>743.000000</td>\n",
              "      <td>112.000000</td>\n",
              "      <td>666.000000</td>\n",
              "      <td>86.000000</td>\n",
              "      <td>1242.000000</td>\n",
              "      <td>742.000000</td>\n",
              "      <td>12.000000</td>\n",
              "      <td>36.600000</td>\n",
              "      <td>0.746100</td>\n",
              "    </tr>\n",
              "    <tr>\n",
              "      <th>50%</th>\n",
              "      <td>2.152750</td>\n",
              "      <td>1075.000000</td>\n",
              "      <td>8.600000</td>\n",
              "      <td>923.000000</td>\n",
              "      <td>229.000000</td>\n",
              "      <td>818.000000</td>\n",
              "      <td>113.091251</td>\n",
              "      <td>1456.264598</td>\n",
              "      <td>983.000000</td>\n",
              "      <td>18.300000</td>\n",
              "      <td>49.234201</td>\n",
              "      <td>1.015400</td>\n",
              "    </tr>\n",
              "    <tr>\n",
              "      <th>75%</th>\n",
              "      <td>2.600000</td>\n",
              "      <td>1221.000000</td>\n",
              "      <td>13.600000</td>\n",
              "      <td>1105.000000</td>\n",
              "      <td>284.000000</td>\n",
              "      <td>960.000000</td>\n",
              "      <td>133.000000</td>\n",
              "      <td>1662.000000</td>\n",
              "      <td>1255.000000</td>\n",
              "      <td>24.100000</td>\n",
              "      <td>61.900000</td>\n",
              "      <td>1.296200</td>\n",
              "    </tr>\n",
              "    <tr>\n",
              "      <th>max</th>\n",
              "      <td>11.900000</td>\n",
              "      <td>2040.000000</td>\n",
              "      <td>63.700000</td>\n",
              "      <td>2214.000000</td>\n",
              "      <td>1479.000000</td>\n",
              "      <td>2683.000000</td>\n",
              "      <td>340.000000</td>\n",
              "      <td>2775.000000</td>\n",
              "      <td>2523.000000</td>\n",
              "      <td>44.600000</td>\n",
              "      <td>88.700000</td>\n",
              "      <td>2.231000</td>\n",
              "    </tr>\n",
              "  </tbody>\n",
              "</table>\n",
              "</div>\n",
              "      <button class=\"colab-df-convert\" onclick=\"convertToInteractive('df-f1b886dd-062e-43d3-9a5e-ef04f2aa41a1')\"\n",
              "              title=\"Convert this dataframe to an interactive table.\"\n",
              "              style=\"display:none;\">\n",
              "        \n",
              "  <svg xmlns=\"http://www.w3.org/2000/svg\" height=\"24px\"viewBox=\"0 0 24 24\"\n",
              "       width=\"24px\">\n",
              "    <path d=\"M0 0h24v24H0V0z\" fill=\"none\"/>\n",
              "    <path d=\"M18.56 5.44l.94 2.06.94-2.06 2.06-.94-2.06-.94-.94-2.06-.94 2.06-2.06.94zm-11 1L8.5 8.5l.94-2.06 2.06-.94-2.06-.94L8.5 2.5l-.94 2.06-2.06.94zm10 10l.94 2.06.94-2.06 2.06-.94-2.06-.94-.94-2.06-.94 2.06-2.06.94z\"/><path d=\"M17.41 7.96l-1.37-1.37c-.4-.4-.92-.59-1.43-.59-.52 0-1.04.2-1.43.59L10.3 9.45l-7.72 7.72c-.78.78-.78 2.05 0 2.83L4 21.41c.39.39.9.59 1.41.59.51 0 1.02-.2 1.41-.59l7.78-7.78 2.81-2.81c.8-.78.8-2.07 0-2.86zM5.41 20L4 18.59l7.72-7.72 1.47 1.35L5.41 20z\"/>\n",
              "  </svg>\n",
              "      </button>\n",
              "      \n",
              "  <style>\n",
              "    .colab-df-container {\n",
              "      display:flex;\n",
              "      flex-wrap:wrap;\n",
              "      gap: 12px;\n",
              "    }\n",
              "\n",
              "    .colab-df-convert {\n",
              "      background-color: #E8F0FE;\n",
              "      border: none;\n",
              "      border-radius: 50%;\n",
              "      cursor: pointer;\n",
              "      display: none;\n",
              "      fill: #1967D2;\n",
              "      height: 32px;\n",
              "      padding: 0 0 0 0;\n",
              "      width: 32px;\n",
              "    }\n",
              "\n",
              "    .colab-df-convert:hover {\n",
              "      background-color: #E2EBFA;\n",
              "      box-shadow: 0px 1px 2px rgba(60, 64, 67, 0.3), 0px 1px 3px 1px rgba(60, 64, 67, 0.15);\n",
              "      fill: #174EA6;\n",
              "    }\n",
              "\n",
              "    [theme=dark] .colab-df-convert {\n",
              "      background-color: #3B4455;\n",
              "      fill: #D2E3FC;\n",
              "    }\n",
              "\n",
              "    [theme=dark] .colab-df-convert:hover {\n",
              "      background-color: #434B5C;\n",
              "      box-shadow: 0px 1px 3px 1px rgba(0, 0, 0, 0.15);\n",
              "      filter: drop-shadow(0px 1px 2px rgba(0, 0, 0, 0.3));\n",
              "      fill: #FFFFFF;\n",
              "    }\n",
              "  </style>\n",
              "\n",
              "      <script>\n",
              "        const buttonEl =\n",
              "          document.querySelector('#df-f1b886dd-062e-43d3-9a5e-ef04f2aa41a1 button.colab-df-convert');\n",
              "        buttonEl.style.display =\n",
              "          google.colab.kernel.accessAllowed ? 'block' : 'none';\n",
              "\n",
              "        async function convertToInteractive(key) {\n",
              "          const element = document.querySelector('#df-f1b886dd-062e-43d3-9a5e-ef04f2aa41a1');\n",
              "          const dataTable =\n",
              "            await google.colab.kernel.invokeFunction('convertToInteractive',\n",
              "                                                     [key], {});\n",
              "          if (!dataTable) return;\n",
              "\n",
              "          const docLinkHtml = 'Like what you see? Visit the ' +\n",
              "            '<a target=\"_blank\" href=https://colab.research.google.com/notebooks/data_table.ipynb>data table notebook</a>'\n",
              "            + ' to learn more about interactive tables.';\n",
              "          element.innerHTML = '';\n",
              "          dataTable['output_type'] = 'display_data';\n",
              "          await google.colab.output.renderOutput(dataTable, element);\n",
              "          const docLink = document.createElement('div');\n",
              "          docLink.innerHTML = docLinkHtml;\n",
              "          element.appendChild(docLink);\n",
              "        }\n",
              "      </script>\n",
              "    </div>\n",
              "  </div>\n",
              "  "
            ]
          },
          "metadata": {},
          "execution_count": 59
        }
      ]
    },
    {
      "cell_type": "markdown",
      "source": [
        "# **Data Correlation**"
      ],
      "metadata": {
        "id": "QI3pG9XTUMPc"
      }
    },
    {
      "cell_type": "code",
      "source": [
        "df.hist(figsize=(10,10));"
      ],
      "metadata": {
        "colab": {
          "base_uri": "https://localhost:8080/",
          "height": 607
        },
        "id": "WKnSsVHr1h6s",
        "outputId": "44102076-36a4-47ab-cd42-c53fb23da8e6"
      },
      "execution_count": null,
      "outputs": [
        {
          "output_type": "display_data",
          "data": {
            "text/plain": [
              "<Figure size 720x720 with 12 Axes>"
            ],
            "image/png": "[encoded data removed]"
          },
          "metadata": {
            "needs_background": "light"
          }
        }
      ]
    },
    {
      "cell_type": "code",
      "source": [
        "corrmat = df.corr()\n",
        "topcorr = corrmat.index\n",
        "plt.figure(figsize=(10,10))\n",
        "sns.heatmap(df.corr(), annot=True, linewidth=.2)"
      ],
      "metadata": {
        "colab": {
          "base_uri": "https://localhost:8080/",
          "height": 681
        },
        "id": "QmnUrBXkXHH7",
        "outputId": "15382a9e-02d7-4295-c6f7-a3683299235c"
      },
      "execution_count": null,
      "outputs": [
        {
          "output_type": "execute_result",
          "data": {
            "text/plain": [
              "<matplotlib.axes._subplots.AxesSubplot at 0x7fe956cde2e0>"
            ]
          },
          "metadata": {},
          "execution_count": 61
        },
        {
          "output_type": "display_data",
          "data": {
            "text/plain": [
              "<Figure size 720x720 with 2 Axes>"
            ],
            "image/png": "[encoded data removed]"
          },
          "metadata": {
            "needs_background": "light"
          }
        }
      ]
    },
    {
      "cell_type": "code",
      "source": [
        "# sns.pairplot(df)"
      ],
      "metadata": {
        "id": "5Q2G0XZD-3r9"
      },
      "execution_count": null,
      "outputs": []
    },
    {
      "cell_type": "code",
      "source": [
        "df.plot(kind='scatter', x='C6H6_GT', y='PT08_S1_CO')"
      ],
      "metadata": {
        "colab": {
          "base_uri": "https://localhost:8080/",
          "height": 298
        },
        "id": "Z-5vbREXCTzg",
        "outputId": "cb2297b1-b461-4c31-bed0-a6efaaf1fd9c"
      },
      "execution_count": null,
      "outputs": [
        {
          "output_type": "execute_result",
          "data": {
            "text/plain": [
              "<matplotlib.axes._subplots.AxesSubplot at 0x7fe956aaad30>"
            ]
          },
          "metadata": {},
          "execution_count": 63
        },
        {
          "output_type": "display_data",
          "data": {
            "text/plain": [
              "<Figure size 432x288 with 1 Axes>"
            ],
            "image/png": "[encoded data removed]"
          },
          "metadata": {
            "needs_background": "light"
          }
        }
      ]
    },
    {
      "cell_type": "markdown",
      "source": [
        "+ **Kết luận**: Nhận thấy độ tương quan của C6H6_GT với một số thành phần tương đối cao: 0.98, 0.88, 0.81 "
      ],
      "metadata": {
        "id": "_2xRrrLCH179"
      }
    },
    {
      "cell_type": "markdown",
      "source": [
        "# **Data Preparation**"
      ],
      "metadata": {
        "id": "Xl1hOKmjYDOJ"
      }
    },
    {
      "cell_type": "code",
      "source": [
        "# Xác định input và output\n",
        "data = df\n",
        "data = data.drop('C6H6_GT', axis=1)\n",
        "labels = df['C6H6_GT']"
      ],
      "metadata": {
        "id": "0bGegYRIJUcs"
      },
      "execution_count": null,
      "outputs": []
    },
    {
      "cell_type": "code",
      "source": [
        "#train/test split\n",
        "X_train, X_test, y_train, y_test = train_test_split(data, labels, test_size=0.3)\n",
        "\n",
        "# StandardScaler X_trian, X_test \n",
        "sc = StandardScaler()\n",
        "X_train = sc.fit_transform(X_train)\n",
        "X_test = sc.transform (X_test)\n",
        "\n",
        "print(X_train.shape, y_train.shape)\n",
        "print(X_test.shape, y_test.shape)"
      ],
      "metadata": {
        "colab": {
          "base_uri": "https://localhost:8080/"
        },
        "id": "t0oT5TL3MYoW",
        "outputId": "14f18c9f-68a6-47c7-89ad-d03bd7fe6ca6"
      },
      "execution_count": null,
      "outputs": [
        {
          "output_type": "stream",
          "name": "stdout",
          "text": [
            "(6549, 11) (6549,)\n",
            "(2808, 11) (2808,)\n"
          ]
        }
      ]
    },
    {
      "cell_type": "markdown",
      "source": [
        "# **Predictions with Linear Regression**"
      ],
      "metadata": {
        "id": "pRXucpZVJJfK"
      }
    },
    {
      "cell_type": "markdown",
      "source": [
        "#### **Train the Linear Regression (default)**"
      ],
      "metadata": {
        "id": "IJcEDLf5Yy6L"
      }
    },
    {
      "cell_type": "code",
      "source": [
        "linear_model = LinearRegression()\n",
        "linear_model.fit(X_train, y_train)\n",
        "y_pred_linear = linear_model.predict(X_test)"
      ],
      "metadata": {
        "id": "i6dBFud6T5I3"
      },
      "execution_count": null,
      "outputs": []
    },
    {
      "cell_type": "code",
      "source": [
        "linear_model.score(X_test,y_test)"
      ],
      "metadata": {
        "colab": {
          "base_uri": "https://localhost:8080/"
        },
        "id": "4xKm9Pg-Dy98",
        "outputId": "26c9fd65-bb45-443d-89ab-50a14ddaf9c1"
      },
      "execution_count": null,
      "outputs": [
        {
          "output_type": "execute_result",
          "data": {
            "text/plain": [
              "0.9764071671820306"
            ]
          },
          "metadata": {},
          "execution_count": 67
        }
      ]
    },
    {
      "cell_type": "code",
      "source": [
        "sns.distplot(y_test-y_pred_linear)"
      ],
      "metadata": {
        "colab": {
          "base_uri": "https://localhost:8080/"
        },
        "id": "FQXJ2HDwFLdc",
        "outputId": "9e2197d2-214d-428b-df04-788dcc40835c"
      },
      "execution_count": null,
      "outputs": [
        {
          "output_type": "stream",
          "name": "stderr",
          "text": [
            "/usr/local/lib/python3.8/dist-packages/seaborn/distributions.py:2619: FutureWarning: `distplot` is a deprecated function and will be removed in a future version. Please adapt your code to use either `displot` (a figure-level function with similar flexibility) or `histplot` (an axes-level function for histograms).\n",
            "  warnings.warn(msg, FutureWarning)\n"
          ]
        },
        {
          "output_type": "execute_result",
          "data": {
            "text/plain": [
              "<matplotlib.axes._subplots.AxesSubplot at 0x7fe9572e7160>"
            ]
          },
          "metadata": {},
          "execution_count": 68
        },
        {
          "output_type": "display_data",
          "data": {
            "text/plain": [
              "<Figure size 432x288 with 1 Axes>"
            ],
            "image/png": "[encoded data removed]"
          },
          "metadata": {
            "needs_background": "light"
          }
        }
      ]
    },
    {
      "cell_type": "markdown",
      "source": [
        "#### **Hyperparameter Tuning**"
      ],
      "metadata": {
        "id": "nUMQ5Oqidvzg"
      }
    },
    {
      "cell_type": "code",
      "source": [
        "parameters = {\"fit_intercept\": [True, False],\n",
        "              \"copy_X\": [True, False], \n",
        "              \"positive\": [True, False]\n",
        "             }"
      ],
      "metadata": {
        "id": "SV9H_7lyeJsw"
      },
      "execution_count": null,
      "outputs": []
    },
    {
      "cell_type": "code",
      "source": [
        "tuning_model = GridSearchCV(LinearRegression(), parameters, cv = 2) #cv: là số lần thẩm định\n",
        "tuning_model.fit(X_train, y_train)\n",
        "print(tuning_model.best_params_)"
      ],
      "metadata": {
        "colab": {
          "base_uri": "https://localhost:8080/"
        },
        "id": "alBfapEdL9OQ",
        "outputId": "ba6c1e5d-a43f-42e0-b4dc-fe651857c52c"
      },
      "execution_count": null,
      "outputs": [
        {
          "output_type": "stream",
          "name": "stdout",
          "text": [
            "{'copy_X': True, 'fit_intercept': True, 'positive': False}\n"
          ]
        }
      ]
    },
    {
      "cell_type": "markdown",
      "source": [
        "#### **Train the Linear Regression With Best Hyperparameters**"
      ],
      "metadata": {
        "id": "rE1CgdUbdklG"
      }
    },
    {
      "cell_type": "code",
      "source": [
        "linear_model_tuned = LinearRegression(copy_X=True, fit_intercept=True, positive=False)\n",
        "linear_model_tuned.fit(X_train, y_train)"
      ],
      "metadata": {
        "colab": {
          "base_uri": "https://localhost:8080/"
        },
        "id": "gnBvk5V3rg8T",
        "outputId": "7de9b24c-f7b3-4b4f-978d-e53c1bc1e5fb"
      },
      "execution_count": null,
      "outputs": [
        {
          "output_type": "execute_result",
          "data": {
            "text/plain": [
              "LinearRegression()"
            ]
          },
          "metadata": {},
          "execution_count": 71
        }
      ]
    },
    {
      "cell_type": "code",
      "source": [
        "y_pred_linear_tuned = linear_model_tuned.predict(X_test)\n",
        "plt.scatter(y_test,y_pred_linear_tuned, color='r')"
      ],
      "metadata": {
        "colab": {
          "base_uri": "https://localhost:8080/"
        },
        "id": "tPtEqR30M-4_",
        "outputId": "5de41e27-2e61-47cc-f4b4-c5a260bcf64b"
      },
      "execution_count": null,
      "outputs": [
        {
          "output_type": "execute_result",
          "data": {
            "text/plain": [
              "<matplotlib.collections.PathCollection at 0x7fe956976df0>"
            ]
          },
          "metadata": {},
          "execution_count": 72
        },
        {
          "output_type": "display_data",
          "data": {
            "text/plain": [
              "<Figure size 432x288 with 1 Axes>"
            ],
            "image/png": "[encoded data removed]"
          },
          "metadata": {
            "needs_background": "light"
          }
        }
      ]
    },
    {
      "cell_type": "code",
      "source": [
        "print(\"score\", linear_model_tuned.score(X_test, y_test))\n",
        "print(\"MSE\", mean_squared_error(y_test, y_pred_linear_tuned))\n",
        "print(\"MAE\", mean_absolute_error(y_test, y_pred_linear_tuned))"
      ],
      "metadata": {
        "colab": {
          "base_uri": "https://localhost:8080/"
        },
        "id": "fcbK0MfMsOlB",
        "outputId": "802151e7-849b-4ad7-bc13-ec7e7e052441"
      },
      "execution_count": null,
      "outputs": [
        {
          "output_type": "stream",
          "name": "stdout",
          "text": [
            "score 0.9764071671820306\n",
            "MSE 1.2618832672622318\n",
            "MAE 0.8006673081716212\n"
          ]
        }
      ]
    },
    {
      "cell_type": "markdown",
      "source": [
        "# **Predictions with Support Vector Machines**"
      ],
      "metadata": {
        "id": "ksS4bIXM5FZF"
      }
    },
    {
      "cell_type": "markdown",
      "source": [
        "#### **Train the Support Vector Machines (default)**"
      ],
      "metadata": {
        "id": "1uw6lugRuqGp"
      }
    },
    {
      "cell_type": "code",
      "source": [
        "svm_model = SVR()\n",
        "svm_model.fit(X_train, y_train)\n",
        "y_pred_svm = svm_model.predict(X_test)"
      ],
      "metadata": {
        "id": "vYGIbBdNvApw"
      },
      "execution_count": null,
      "outputs": []
    },
    {
      "cell_type": "code",
      "source": [
        "svm_model.score(X_test,y_test)"
      ],
      "metadata": {
        "colab": {
          "base_uri": "https://localhost:8080/"
        },
        "id": "_D-ZLQQB6wYG",
        "outputId": "55377018-4b88-45c8-9031-53cf07d98d3b"
      },
      "execution_count": null,
      "outputs": [
        {
          "output_type": "execute_result",
          "data": {
            "text/plain": [
              "0.9821065153542747"
            ]
          },
          "metadata": {},
          "execution_count": 75
        }
      ]
    },
    {
      "cell_type": "code",
      "source": [
        "sns.distplot(y_test-y_pred_svm)"
      ],
      "metadata": {
        "colab": {
          "base_uri": "https://localhost:8080/"
        },
        "id": "ZX1uyFoN7Aa2",
        "outputId": "c825698e-7a68-4107-ad5f-3be70324953e"
      },
      "execution_count": null,
      "outputs": [
        {
          "output_type": "stream",
          "name": "stderr",
          "text": [
            "/usr/local/lib/python3.8/dist-packages/seaborn/distributions.py:2619: FutureWarning: `distplot` is a deprecated function and will be removed in a future version. Please adapt your code to use either `displot` (a figure-level function with similar flexibility) or `histplot` (an axes-level function for histograms).\n",
            "  warnings.warn(msg, FutureWarning)\n"
          ]
        },
        {
          "output_type": "execute_result",
          "data": {
            "text/plain": [
              "<matplotlib.axes._subplots.AxesSubplot at 0x7fe9569350d0>"
            ]
          },
          "metadata": {},
          "execution_count": 76
        },
        {
          "output_type": "display_data",
          "data": {
            "text/plain": [
              "<Figure size 432x288 with 1 Axes>"
            ],
            "image/png": "[encoded data removed]"
          },
          "metadata": {
            "needs_background": "light"
          }
        }
      ]
    },
    {
      "cell_type": "markdown",
      "source": [
        "#### **Hyperparameter Tuning**"
      ],
      "metadata": {
        "id": "grTEX2jH7hXI"
      }
    },
    {
      "cell_type": "code",
      "source": [
        "parameters = {'C': [0.1, 1, 10, 100, 1000], \n",
        "              'gamma': [1, 0.1, 0.01, 0.001],\n",
        "              'kernel': ['rbf']\n",
        "             }"
      ],
      "metadata": {
        "id": "DTQGji2e7rKG"
      },
      "execution_count": null,
      "outputs": []
    },
    {
      "cell_type": "code",
      "source": [
        "# , n_iter = 10, n_jobs = -1, verbose = 2, cv = 3\n",
        "# tuning_model = RandomizedSearchCV(SVR(), parameters,  n_iter = 10, n_jobs = -1, verbose = 2, cv = 3)\n",
        "# tuning_model.fit(X_train, y_train)\n",
        "# print(tuning_model.best_params_)"
      ],
      "metadata": {
        "id": "Y9H9-KQ69P-C"
      },
      "execution_count": null,
      "outputs": []
    },
    {
      "cell_type": "markdown",
      "source": [
        "#### **Train the Support Vector Machines With Best Hyperparameters**"
      ],
      "metadata": {
        "id": "JtDqF9fdAVdA"
      }
    },
    {
      "cell_type": "code",
      "source": [
        "svm_model_tuned = SVR(kernel = 'rbf', gamma = 0.001, C = 100)\n",
        "svm_model_tuned.fit(X_train, y_train)"
      ],
      "metadata": {
        "colab": {
          "base_uri": "https://localhost:8080/"
        },
        "id": "T2vNeaRmUEfr",
        "outputId": "0ec6ab70-fe56-4fb7-df38-371f2e037a81"
      },
      "execution_count": null,
      "outputs": [
        {
          "output_type": "execute_result",
          "data": {
            "text/plain": [
              "SVR(C=100, gamma=0.001)"
            ]
          },
          "metadata": {},
          "execution_count": 79
        }
      ]
    },
    {
      "cell_type": "code",
      "source": [
        "y_pred_svm_tuned = svm_model_tuned.predict(X_test)\n",
        "plt.scatter(y_test,y_pred_svm_tuned, color='r')"
      ],
      "metadata": {
        "colab": {
          "base_uri": "https://localhost:8080/",
          "height": 283
        },
        "id": "iRYAzNw9UphO",
        "outputId": "ede1fd90-8da0-4041-a6ff-3d5c97fa3072"
      },
      "execution_count": null,
      "outputs": [
        {
          "output_type": "execute_result",
          "data": {
            "text/plain": [
              "<matplotlib.collections.PathCollection at 0x7fe95683f4c0>"
            ]
          },
          "metadata": {},
          "execution_count": 80
        },
        {
          "output_type": "display_data",
          "data": {
            "text/plain": [
              "<Figure size 432x288 with 1 Axes>"
            ],
            "image/png": "[encoded data removed]"
          },
          "metadata": {
            "needs_background": "light"
          }
        }
      ]
    },
    {
      "cell_type": "code",
      "source": [
        "print(\"score\", svm_model_tuned.score(X_test, y_test))\n",
        "print(\"MSE\", mean_squared_error(y_test, y_pred_svm_tuned))\n",
        "print(\"MAE\", mean_absolute_error(y_test, y_pred_svm_tuned))"
      ],
      "metadata": {
        "colab": {
          "base_uri": "https://localhost:8080/"
        },
        "id": "rEACFFSTVoPr",
        "outputId": "ca778c45-b475-4f5b-9d97-1f3a187fa0b5"
      },
      "execution_count": null,
      "outputs": [
        {
          "output_type": "stream",
          "name": "stdout",
          "text": [
            "score 0.9987186874003605\n",
            "MSE 0.06853212338222568\n",
            "MAE 0.14059860914070188\n"
          ]
        }
      ]
    },
    {
      "cell_type": "markdown",
      "source": [
        "# **Predictions with K-Nearest Neighbors**"
      ],
      "metadata": {
        "id": "EsUrA5ptNET-"
      }
    },
    {
      "cell_type": "markdown",
      "source": [
        "#### **Train the K-Nearest Neighbors (default)**"
      ],
      "metadata": {
        "id": "Nu4-4Kw1NMvK"
      }
    },
    {
      "cell_type": "code",
      "source": [
        "knn_model = KNeighborsRegressor()\n",
        "knn_model.fit(X_train, y_train)\n",
        "y_pred_knn = knn_model.predict(X_test)"
      ],
      "metadata": {
        "id": "2OCZbl5PNVqB"
      },
      "execution_count": null,
      "outputs": []
    },
    {
      "cell_type": "code",
      "source": [
        "knn_model.score(X_test,y_test)"
      ],
      "metadata": {
        "colab": {
          "base_uri": "https://localhost:8080/"
        },
        "id": "-P6-AxESO-Wb",
        "outputId": "05c18b46-673c-4025-bbce-60efe6c60d3f"
      },
      "execution_count": null,
      "outputs": [
        {
          "output_type": "execute_result",
          "data": {
            "text/plain": [
              "0.9822096408572899"
            ]
          },
          "metadata": {},
          "execution_count": 83
        }
      ]
    },
    {
      "cell_type": "code",
      "source": [
        "sns.distplot(y_test-y_pred_knn)"
      ],
      "metadata": {
        "colab": {
          "base_uri": "https://localhost:8080/",
          "height": 355
        },
        "id": "f9iSujHhPDR9",
        "outputId": "483c1a58-7863-4746-bb4e-1f269ac0f59c"
      },
      "execution_count": null,
      "outputs": [
        {
          "output_type": "stream",
          "name": "stderr",
          "text": [
            "/usr/local/lib/python3.8/dist-packages/seaborn/distributions.py:2619: FutureWarning: `distplot` is a deprecated function and will be removed in a future version. Please adapt your code to use either `displot` (a figure-level function with similar flexibility) or `histplot` (an axes-level function for histograms).\n",
            "  warnings.warn(msg, FutureWarning)\n"
          ]
        },
        {
          "output_type": "execute_result",
          "data": {
            "text/plain": [
              "<matplotlib.axes._subplots.AxesSubplot at 0x7fe9567eabb0>"
            ]
          },
          "metadata": {},
          "execution_count": 84
        },
        {
          "output_type": "display_data",
          "data": {
            "text/plain": [
              "<Figure size 432x288 with 1 Axes>"
            ],
            "image/png": "[encoded data removed]"
          },
          "metadata": {
            "needs_background": "light"
          }
        }
      ]
    },
    {
      "cell_type": "markdown",
      "source": [
        "#### **Hyperparameter Tuning**"
      ],
      "metadata": {
        "id": "c3rL8eNtPxoR"
      }
    },
    {
      "cell_type": "code",
      "source": [
        "parameters = {'n_neighbors' : range(1, 31),\n",
        "              'weights' : ['uniform', 'distance'],\n",
        "              'algorithm' : ['auto', 'ball_tree', 'kd_tree', 'brute']\n",
        "             }"
      ],
      "metadata": {
        "id": "el60kyu6QAe5"
      },
      "execution_count": null,
      "outputs": []
    },
    {
      "cell_type": "code",
      "source": [
        "tuning_model = GridSearchCV(KNeighborsRegressor(), parameters, cv=5, scoring='neg_mean_squared_error')\n",
        "tuning_model.fit(X_train, y_train)\n",
        "print(tuning_model.best_params_)"
      ],
      "metadata": {
        "colab": {
          "base_uri": "https://localhost:8080/"
        },
        "id": "BAu1B9YNUh1E",
        "outputId": "68c3387d-e27d-4e4a-c370-e5dc40f5a34f"
      },
      "execution_count": null,
      "outputs": [
        {
          "output_type": "stream",
          "name": "stdout",
          "text": [
            "{'algorithm': 'auto', 'n_neighbors': 3, 'weights': 'distance'}\n"
          ]
        }
      ]
    },
    {
      "cell_type": "markdown",
      "source": [
        "#### **Train the K-Nearest Neighbors With Best Hyperparameters**"
      ],
      "metadata": {
        "id": "2d8vTARoP5Hy"
      }
    },
    {
      "cell_type": "code",
      "source": [
        "knn_model_tuned = KNeighborsRegressor(algorithm = 'auto', n_neighbors = 3, weights = 'distance')\n",
        "knn_model_tuned.fit(X_train, y_train)"
      ],
      "metadata": {
        "colab": {
          "base_uri": "https://localhost:8080/"
        },
        "id": "vi8541o_aJ1r",
        "outputId": "a22ad6bd-ccd2-4a97-8b97-825d339485ca"
      },
      "execution_count": null,
      "outputs": [
        {
          "output_type": "execute_result",
          "data": {
            "text/plain": [
              "KNeighborsRegressor(n_neighbors=3, weights='distance')"
            ]
          },
          "metadata": {},
          "execution_count": 93
        }
      ]
    },
    {
      "cell_type": "code",
      "source": [
        "y_pred_knn_tuned = knn_model_tuned.predict(X_test)\n",
        "plt.scatter(y_test,y_pred_knn_tuned, color='r')"
      ],
      "metadata": {
        "colab": {
          "base_uri": "https://localhost:8080/",
          "height": 285
        },
        "id": "RsPclwOua6_L",
        "outputId": "b82fabdb-f2ad-4160-b3bb-68e570cf1d64"
      },
      "execution_count": null,
      "outputs": [
        {
          "output_type": "execute_result",
          "data": {
            "text/plain": [
              "<matplotlib.collections.PathCollection at 0x7fe956dc2be0>"
            ]
          },
          "metadata": {},
          "execution_count": 94
        },
        {
          "output_type": "display_data",
          "data": {
            "text/plain": [
              "<Figure size 432x288 with 1 Axes>"
            ],
            "image/png": "[encoded data removed]"
          },
          "metadata": {
            "needs_background": "light"
          }
        }
      ]
    },
    {
      "cell_type": "code",
      "source": [
        "print(\"score\", knn_model_tuned.score(X_test, y_test))\n",
        "print(\"MSE\", mean_squared_error(y_test, y_pred_knn_tuned))\n",
        "print(\"MAE\", mean_absolute_error(y_test, y_pred_knn_tuned))"
      ],
      "metadata": {
        "colab": {
          "base_uri": "https://localhost:8080/"
        },
        "id": "6JgX2SzfbESk",
        "outputId": "5c0ab54c-604e-4357-ab93-14bd50dec1de"
      },
      "execution_count": null,
      "outputs": [
        {
          "output_type": "stream",
          "name": "stdout",
          "text": [
            "score 0.9826179570099935\n",
            "MSE 0.9296937493328871\n",
            "MAE 0.6362626049792023\n"
          ]
        }
      ]
    }
  ]
}